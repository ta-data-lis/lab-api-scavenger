{
 "cells": [
  {
   "cell_type": "markdown",
   "metadata": {},
   "source": [
    "### Challenge 1: Fork Languages\n",
    "\n",
    "You will find out how many programming languages are used among all the forks created from the main lab repo of ironhack Madrid. The URL is  `ironhack-datalabs/madrid-oct-2018`, you will:\n",
    "\n",
    "\n",
    "1. Obtain the full list of forks created from the main lab repo via Github API.\n",
    "\n",
    "1. Loop the JSON response to find out the `language` attribute of each fork. Use an array to store the `language` attributes of each fork.    *Hint: Each language should appear only once in your array.*\n",
    "\n",
    "1. Print the language array. It should be something like:\n",
    "\n",
    "\t```[\"Python\", \"Jupyter Notebook\", \"HTML\"]``` \n",
    "\t\t\tor\n",
    "\t```[\"Jupyter Notebook\", \"HTML\", None]```"
   ]
  },
  {
   "cell_type": "code",
   "execution_count": 1,
   "metadata": {},
   "outputs": [],
   "source": [
    "import pandas as pd\n",
    "import requests"
   ]
  },
  {
   "cell_type": "code",
   "execution_count": 37,
   "metadata": {},
   "outputs": [
    {
     "name": "stdout",
     "output_type": "stream",
     "text": [
      "['Jupyter Notebook', 'HTML', 'Python']\n"
     ]
    }
   ],
   "source": [
    "url = \"https://api.github.com/repos/ironhack-datalabs/mad-oct-2018/languages\"\n",
    "response = requests.get(url=url)\n",
    "languages = list(response.json())\n",
    "print(languages)"
   ]
  },
  {
   "cell_type": "markdown",
   "metadata": {},
   "source": [
    "### Challenge 2: Count Commits\n",
    "\n",
    "From your own `lab-list-comprehensions` repo, you will count how many commits were made in the past 2 weeks:\n",
    "\n",
    "1. Obtain all the commits made in the past 2 weeks via API, which is a JSON array that contains multiple commit objects.\n",
    "\n",
    "1. Count how many commit objects are contained in the array."
   ]
  },
  {
   "cell_type": "code",
   "execution_count": 42,
   "metadata": {},
   "outputs": [],
   "source": [
    "from requests.auth import HTTPBasicAuth\n",
    "import getpass"
   ]
  },
  {
   "cell_type": "code",
   "execution_count": 61,
   "metadata": {},
   "outputs": [
    {
     "data": {
      "text/plain": [
       "{'login': 'karolers',\n",
       " 'id': 111517561,\n",
       " 'node_id': 'U_kgDOBqWfeQ',\n",
       " 'avatar_url': 'https://avatars.githubusercontent.com/u/111517561?v=4',\n",
       " 'gravatar_id': '',\n",
       " 'url': 'https://api.github.com/users/karolers',\n",
       " 'html_url': 'https://github.com/karolers',\n",
       " 'followers_url': 'https://api.github.com/users/karolers/followers',\n",
       " 'following_url': 'https://api.github.com/users/karolers/following{/other_user}',\n",
       " 'gists_url': 'https://api.github.com/users/karolers/gists{/gist_id}',\n",
       " 'starred_url': 'https://api.github.com/users/karolers/starred{/owner}{/repo}',\n",
       " 'subscriptions_url': 'https://api.github.com/users/karolers/subscriptions',\n",
       " 'organizations_url': 'https://api.github.com/users/karolers/orgs',\n",
       " 'repos_url': 'https://api.github.com/users/karolers/repos',\n",
       " 'events_url': 'https://api.github.com/users/karolers/events{/privacy}',\n",
       " 'received_events_url': 'https://api.github.com/users/karolers/received_events',\n",
       " 'type': 'User',\n",
       " 'site_admin': False,\n",
       " 'name': None,\n",
       " 'company': None,\n",
       " 'blog': '',\n",
       " 'location': None,\n",
       " 'email': None,\n",
       " 'hireable': None,\n",
       " 'bio': None,\n",
       " 'twitter_username': None,\n",
       " 'public_repos': 23,\n",
       " 'public_gists': 0,\n",
       " 'followers': 0,\n",
       " 'following': 0,\n",
       " 'created_at': '2022-08-18T14:17:47Z',\n",
       " 'updated_at': '2022-08-18T14:17:47Z'}"
      ]
     },
     "execution_count": 61,
     "metadata": {},
     "output_type": "execute_result"
    }
   ],
   "source": [
    "url = \"https://api.github.com/user\"\n",
    "\n",
    "password = getpass.getpass()\n",
    "response = requests.get(url=url, auth=HTTPBasicAuth(\"karolers\", password))\n",
    "response.json()"
   ]
  },
  {
   "cell_type": "code",
   "execution_count": 62,
   "metadata": {},
   "outputs": [
    {
     "data": {
      "text/plain": [
       "200"
      ]
     },
     "execution_count": 62,
     "metadata": {},
     "output_type": "execute_result"
    }
   ],
   "source": [
    "url = \"https://api.github.com/repos/ta-data-lis/lab-list-comprehensions/pulls/120/commits\"\n",
    "response = requests.get(url=url)\n",
    "response.status_code"
   ]
  },
  {
   "cell_type": "code",
   "execution_count": 60,
   "metadata": {},
   "outputs": [
    {
     "data": {
      "text/plain": [
       "1"
      ]
     },
     "execution_count": 60,
     "metadata": {},
     "output_type": "execute_result"
    }
   ],
   "source": [
    "commits = pd.DataFrame(response.json())\n",
    "len(commits)"
   ]
  }
 ],
 "metadata": {
  "kernelspec": {
   "display_name": "Python 3.9.13 ('Ironhack')",
   "language": "python",
   "name": "python3"
  },
  "language_info": {
   "codemirror_mode": {
    "name": "ipython",
    "version": 3
   },
   "file_extension": ".py",
   "mimetype": "text/x-python",
   "name": "python",
   "nbconvert_exporter": "python",
   "pygments_lexer": "ipython3",
   "version": "3.9.13"
  },
  "orig_nbformat": 4,
  "vscode": {
   "interpreter": {
    "hash": "e4c18cbdf492ce8a620a541871b999f378608e61e648ade4e90f18018814cb12"
   }
  }
 },
 "nbformat": 4,
 "nbformat_minor": 2
}

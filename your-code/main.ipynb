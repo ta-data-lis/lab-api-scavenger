{
 "cells": [
  {
   "cell_type": "code",
   "execution_count": null,
   "id": "e7e93cac",
   "metadata": {},
   "outputs": [],
   "source": []
  },
  {
   "cell_type": "code",
   "execution_count": 1,
   "id": "3edfbe6c",
   "metadata": {},
   "outputs": [],
   "source": [
    "import pandas as pd\n",
    "import requests"
   ]
  },
  {
   "cell_type": "code",
   "execution_count": null,
   "id": "ab37f706",
   "metadata": {},
   "outputs": [],
   "source": [
    "##CHALLENGE 1 ##"
   ]
  },
  {
   "cell_type": "code",
   "execution_count": 2,
   "id": "1bccbad3",
   "metadata": {},
   "outputs": [
    {
     "data": {
      "text/plain": [
       "200"
      ]
     },
     "execution_count": 2,
     "metadata": {},
     "output_type": "execute_result"
    }
   ],
   "source": [
    "#LANGUAGES\n",
    "\n",
    "response = requests.get('https://api.github.com/repos/ironhack-datalabs/bcn-feb-2019/languages')\n",
    "\n",
    "response.status_code"
   ]
  },
  {
   "cell_type": "code",
   "execution_count": 3,
   "id": "2eef8c04",
   "metadata": {},
   "outputs": [
    {
     "data": {
      "text/html": [
       "<div>\n",
       "<style scoped>\n",
       "    .dataframe tbody tr th:only-of-type {\n",
       "        vertical-align: middle;\n",
       "    }\n",
       "\n",
       "    .dataframe tbody tr th {\n",
       "        vertical-align: top;\n",
       "    }\n",
       "\n",
       "    .dataframe thead th {\n",
       "        text-align: right;\n",
       "    }\n",
       "</style>\n",
       "<table border=\"1\" class=\"dataframe\">\n",
       "  <thead>\n",
       "    <tr style=\"text-align: right;\">\n",
       "      <th></th>\n",
       "      <th>Jupyter Notebook</th>\n",
       "      <th>HTML</th>\n",
       "      <th>Python</th>\n",
       "    </tr>\n",
       "  </thead>\n",
       "  <tbody>\n",
       "    <tr>\n",
       "      <th>0</th>\n",
       "      <td>1255048</td>\n",
       "      <td>498316</td>\n",
       "      <td>20656</td>\n",
       "    </tr>\n",
       "  </tbody>\n",
       "</table>\n",
       "</div>"
      ],
      "text/plain": [
       "   Jupyter Notebook    HTML  Python\n",
       "0           1255048  498316   20656"
      ]
     },
     "execution_count": 3,
     "metadata": {},
     "output_type": "execute_result"
    }
   ],
   "source": [
    "pd.DataFrame.from_dict(response.json(), orient='index').T"
   ]
  },
  {
   "cell_type": "code",
   "execution_count": 4,
   "id": "fb52de5e",
   "metadata": {},
   "outputs": [
    {
     "data": {
      "text/plain": [
       "200"
      ]
     },
     "execution_count": 4,
     "metadata": {},
     "output_type": "execute_result"
    }
   ],
   "source": [
    "##FORKS\n",
    "\n",
    "response = requests.get('https://api.github.com/repos/ironhack-datalabs/bcn-feb-2019/forks')\n",
    "\n",
    "response.status_code"
   ]
  },
  {
   "cell_type": "code",
   "execution_count": 6,
   "id": "92920a36",
   "metadata": {},
   "outputs": [
    {
     "data": {
      "text/plain": [
       "Index(['id', 'node_id', 'name', 'full_name', 'private', 'owner', 'html_url',\n",
       "       'description', 'fork', 'url', 'forks_url', 'keys_url',\n",
       "       'collaborators_url', 'teams_url', 'hooks_url', 'issue_events_url',\n",
       "       'events_url', 'assignees_url', 'branches_url', 'tags_url', 'blobs_url',\n",
       "       'git_tags_url', 'git_refs_url', 'trees_url', 'statuses_url',\n",
       "       'languages_url', 'stargazers_url', 'contributors_url',\n",
       "       'subscribers_url', 'subscription_url', 'commits_url', 'git_commits_url',\n",
       "       'comments_url', 'issue_comment_url', 'contents_url', 'compare_url',\n",
       "       'merges_url', 'archive_url', 'downloads_url', 'issues_url', 'pulls_url',\n",
       "       'milestones_url', 'notifications_url', 'labels_url', 'releases_url',\n",
       "       'deployments_url', 'created_at', 'updated_at', 'pushed_at', 'git_url',\n",
       "       'ssh_url', 'clone_url', 'svn_url', 'homepage', 'size',\n",
       "       'stargazers_count', 'watchers_count', 'language', 'has_issues',\n",
       "       'has_projects', 'has_downloads', 'has_wiki', 'has_pages', 'forks_count',\n",
       "       'mirror_url', 'archived', 'disabled', 'open_issues_count', 'license',\n",
       "       'allow_forking', 'is_template', 'topics', 'visibility', 'forks',\n",
       "       'open_issues', 'watchers', 'default_branch'],\n",
       "      dtype='object')"
      ]
     },
     "execution_count": 6,
     "metadata": {},
     "output_type": "execute_result"
    }
   ],
   "source": [
    "pd.DataFrame(response.json()).columns"
   ]
  },
  {
   "cell_type": "code",
   "execution_count": 7,
   "id": "8685ffb5",
   "metadata": {},
   "outputs": [
    {
     "data": {
      "text/plain": [
       "0                None\n",
       "1                None\n",
       "2                None\n",
       "3                None\n",
       "4                None\n",
       "5    Jupyter Notebook\n",
       "Name: language, dtype: object"
      ]
     },
     "execution_count": 7,
     "metadata": {},
     "output_type": "execute_result"
    }
   ],
   "source": [
    "pd.DataFrame(response.json())['language']\n"
   ]
  },
  {
   "cell_type": "code",
   "execution_count": 8,
   "id": "5d278098",
   "metadata": {},
   "outputs": [
    {
     "data": {
      "text/plain": [
       "[None, 'Jupyter Notebook']"
      ]
     },
     "execution_count": 8,
     "metadata": {},
     "output_type": "execute_result"
    }
   ],
   "source": [
    "language_array=list(set(pd.DataFrame(response.json())['language']))\n",
    "language_array"
   ]
  },
  {
   "cell_type": "code",
   "execution_count": null,
   "id": "4b166169",
   "metadata": {},
   "outputs": [],
   "source": []
  },
  {
   "cell_type": "code",
   "execution_count": 44,
   "id": "6bfc4dee",
   "metadata": {},
   "outputs": [],
   "source": [
    "##CHALLENGE 2 ##"
   ]
  },
  {
   "cell_type": "code",
   "execution_count": 15,
   "id": "1acf2401",
   "metadata": {},
   "outputs": [
    {
     "data": {
      "text/plain": [
       "200"
      ]
     },
     "execution_count": 15,
     "metadata": {},
     "output_type": "execute_result"
    }
   ],
   "source": [
    "response = requests.get('https://api.github.com/repos/ana17mat/lab-mysql-first-queries/commits', params={'since':'2022-01-17'})\n",
    "\n",
    "response.status_code"
   ]
  },
  {
   "cell_type": "code",
   "execution_count": 16,
   "id": "c4f4616e",
   "metadata": {},
   "outputs": [
    {
     "data": {
      "text/html": [
       "<div>\n",
       "<style scoped>\n",
       "    .dataframe tbody tr th:only-of-type {\n",
       "        vertical-align: middle;\n",
       "    }\n",
       "\n",
       "    .dataframe tbody tr th {\n",
       "        vertical-align: top;\n",
       "    }\n",
       "\n",
       "    .dataframe thead th {\n",
       "        text-align: right;\n",
       "    }\n",
       "</style>\n",
       "<table border=\"1\" class=\"dataframe\">\n",
       "  <thead>\n",
       "    <tr style=\"text-align: right;\">\n",
       "      <th></th>\n",
       "      <th>sha</th>\n",
       "      <th>node_id</th>\n",
       "      <th>commit</th>\n",
       "      <th>url</th>\n",
       "      <th>html_url</th>\n",
       "      <th>comments_url</th>\n",
       "      <th>author</th>\n",
       "      <th>committer</th>\n",
       "      <th>parents</th>\n",
       "    </tr>\n",
       "  </thead>\n",
       "  <tbody>\n",
       "    <tr>\n",
       "      <th>0</th>\n",
       "      <td>13c60ba2457eacab8671cccd17a4ab1941387d30</td>\n",
       "      <td>C_kwDOGuprudoAKDEzYzYwYmEyNDU3ZWFjYWI4NjcxY2Nj...</td>\n",
       "      <td>{'author': {'name': 'Ana Matias', 'email': 'an...</td>\n",
       "      <td>https://api.github.com/repos/ana17mat/lab-mysq...</td>\n",
       "      <td>https://github.com/ana17mat/lab-mysql-first-qu...</td>\n",
       "      <td>https://api.github.com/repos/ana17mat/lab-mysq...</td>\n",
       "      <td>{'login': 'ana17mat', 'id': 97836713, 'node_id...</td>\n",
       "      <td>{'login': 'ana17mat', 'id': 97836713, 'node_id...</td>\n",
       "      <td>[{'sha': '6a243303cfd846faac16417cad54cd40ab3f...</td>\n",
       "    </tr>\n",
       "  </tbody>\n",
       "</table>\n",
       "</div>"
      ],
      "text/plain": [
       "                                        sha  \\\n",
       "0  13c60ba2457eacab8671cccd17a4ab1941387d30   \n",
       "\n",
       "                                             node_id  \\\n",
       "0  C_kwDOGuprudoAKDEzYzYwYmEyNDU3ZWFjYWI4NjcxY2Nj...   \n",
       "\n",
       "                                              commit  \\\n",
       "0  {'author': {'name': 'Ana Matias', 'email': 'an...   \n",
       "\n",
       "                                                 url  \\\n",
       "0  https://api.github.com/repos/ana17mat/lab-mysq...   \n",
       "\n",
       "                                            html_url  \\\n",
       "0  https://github.com/ana17mat/lab-mysql-first-qu...   \n",
       "\n",
       "                                        comments_url  \\\n",
       "0  https://api.github.com/repos/ana17mat/lab-mysq...   \n",
       "\n",
       "                                              author  \\\n",
       "0  {'login': 'ana17mat', 'id': 97836713, 'node_id...   \n",
       "\n",
       "                                           committer  \\\n",
       "0  {'login': 'ana17mat', 'id': 97836713, 'node_id...   \n",
       "\n",
       "                                             parents  \n",
       "0  [{'sha': '6a243303cfd846faac16417cad54cd40ab3f...  "
      ]
     },
     "execution_count": 16,
     "metadata": {},
     "output_type": "execute_result"
    }
   ],
   "source": [
    "coms = pd.DataFrame(response.json())\n",
    "\n",
    "coms"
   ]
  },
  {
   "cell_type": "code",
   "execution_count": 17,
   "id": "2d0ba4f6",
   "metadata": {},
   "outputs": [
    {
     "data": {
      "text/plain": [
       "{'author': {'name': 'Ana Matias',\n",
       "  'email': 'ana17mat@gmail.com',\n",
       "  'date': '2022-01-31T18:17:12Z'},\n",
       " 'committer': {'name': 'Ana Matias',\n",
       "  'email': 'ana17mat@gmail.com',\n",
       "  'date': '2022-01-31T18:17:12Z'},\n",
       " 'message': 'lab',\n",
       " 'tree': {'sha': 'b9fb03d8991737a3d8b9c5654475fede0457e5e8',\n",
       "  'url': 'https://api.github.com/repos/ana17mat/lab-mysql-first-queries/git/trees/b9fb03d8991737a3d8b9c5654475fede0457e5e8'},\n",
       " 'url': 'https://api.github.com/repos/ana17mat/lab-mysql-first-queries/git/commits/13c60ba2457eacab8671cccd17a4ab1941387d30',\n",
       " 'comment_count': 0,\n",
       " 'verification': {'verified': False,\n",
       "  'reason': 'unsigned',\n",
       "  'signature': None,\n",
       "  'payload': None}}"
      ]
     },
     "execution_count": 17,
     "metadata": {},
     "output_type": "execute_result"
    }
   ],
   "source": [
    "coms['commit'][0]"
   ]
  },
  {
   "cell_type": "code",
   "execution_count": null,
   "id": "7b299983",
   "metadata": {},
   "outputs": [],
   "source": []
  }
 ],
 "metadata": {
  "kernelspec": {
   "display_name": "Python 3 (ipykernel)",
   "language": "python",
   "name": "python3"
  },
  "language_info": {
   "codemirror_mode": {
    "name": "ipython",
    "version": 3
   },
   "file_extension": ".py",
   "mimetype": "text/x-python",
   "name": "python",
   "nbconvert_exporter": "python",
   "pygments_lexer": "ipython3",
   "version": "3.9.7"
  }
 },
 "nbformat": 4,
 "nbformat_minor": 5
}

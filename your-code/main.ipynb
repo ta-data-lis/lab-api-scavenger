{
 "cells": [
  {
   "cell_type": "code",
   "execution_count": 4,
   "metadata": {},
   "outputs": [
    {
     "name": "stdout",
     "output_type": "stream",
     "text": [
      "['Jupyter Notebook', 'HTML']\n"
     ]
    }
   ],
   "source": [
    "import requests\n",
    "response = requests.get('https://api.github.com/repos/ironhack-datalabs/madrid-oct-2018/forks')\n",
    "forks = response.json()\n",
    "languages = []\n",
    "for fork in forks:\n",
    "    language = fork['language']\n",
    "    if language and language not in languages:\n",
    "        languages.append(language)\n",
    "\n",
    "\n",
    "print(languages)"
   ]
  },
  {
   "cell_type": "code",
   "execution_count": 9,
   "metadata": {},
   "outputs": [
    {
     "name": "stdout",
     "output_type": "stream",
     "text": [
      "2\n"
     ]
    }
   ],
   "source": [
    "import requests\n",
    "from datetime import datetime, timedelta\n",
    "\n",
    "access_token = '<password>'\n",
    "headers = {'Authorization': f'token {access_token}'}\n",
    "\n",
    "\n",
    "two_weeks_ago = (datetime.utcnow() - timedelta(days=14)).strftime('%Y-%m-%dT%H:%M:%SZ')\n",
    "url = f'https://api.github.com/repos/<leticiademarchiferreira>/lab-list-comprehensions/commits?since={two_weeks_ago}'\n",
    "response = requests.get(url, headers=headers)\n",
    "\n",
    "\n",
    "commits = response.json()\n",
    "num_commits = len(commits)\n",
    "print(num_commits)"
   ]
  },
  {
   "cell_type": "code",
   "execution_count": null,
   "metadata": {},
   "outputs": [],
   "source": []
  }
 ],
 "metadata": {
  "kernelspec": {
   "display_name": "Python 3",
   "language": "python",
   "name": "python3"
  },
  "language_info": {
   "codemirror_mode": {
    "name": "ipython",
    "version": 3
   },
   "file_extension": ".py",
   "mimetype": "text/x-python",
   "name": "python",
   "nbconvert_exporter": "python",
   "pygments_lexer": "ipython3",
   "version": "3.11.2"
  },
  "orig_nbformat": 4
 },
 "nbformat": 4,
 "nbformat_minor": 2
}

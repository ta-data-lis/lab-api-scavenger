{
 "cells": [
  {
   "cell_type": "code",
   "execution_count": 29,
   "id": "aec02a2d",
   "metadata": {},
   "outputs": [],
   "source": [
    "import requests\n",
    "import pandas as pd\n",
    "import json\n",
    "\n",
    "import datetime"
   ]
  },
  {
   "cell_type": "code",
   "execution_count": 3,
   "id": "de3aa757",
   "metadata": {},
   "outputs": [],
   "source": [
    "# Challenge 1: Fork Languages\n",
    "\n",
    "# https://api.github.com/\n",
    "# \"repository_url\": \"https://api.github.com/repos/{owner}/{repo}\""
   ]
  },
  {
   "cell_type": "code",
   "execution_count": 5,
   "id": "d79a4ed8",
   "metadata": {},
   "outputs": [],
   "source": [
    "url = \"https://api.github.com/repos/ironhack-datalabs/madrid-oct-2018/forks\""
   ]
  },
  {
   "cell_type": "code",
   "execution_count": 6,
   "id": "4fddbece",
   "metadata": {},
   "outputs": [
    {
     "data": {
      "text/plain": [
       "<Response [200]>"
      ]
     },
     "execution_count": 6,
     "metadata": {},
     "output_type": "execute_result"
    }
   ],
   "source": [
    "response = requests.get(url)\n",
    "response"
   ]
  },
  {
   "cell_type": "code",
   "execution_count": 13,
   "id": "1c5738a2",
   "metadata": {},
   "outputs": [],
   "source": [
    "forks = response.json()"
   ]
  },
  {
   "cell_type": "code",
   "execution_count": 12,
   "id": "3a007a26",
   "metadata": {},
   "outputs": [
    {
     "data": {
      "text/plain": [
       "[None, 'Jupyter Notebook', 'HTML']"
      ]
     },
     "execution_count": 12,
     "metadata": {},
     "output_type": "execute_result"
    }
   ],
   "source": [
    "languages = []\n",
    "\n",
    "for element in forks:\n",
    "    if element[\"language\"] not in languages:\n",
    "        languages.append(element[\"language\"])\n",
    "        \n",
    "languages"
   ]
  },
  {
   "cell_type": "code",
   "execution_count": 36,
   "id": "8b0e85f5",
   "metadata": {},
   "outputs": [],
   "source": [
    "# Challenge 2: Count Commits\n",
    "\n",
    "# https://api.github.com/\n",
    "# \"repository_url\": \"https://api.github.com/repos/{owner}/{repo}\""
   ]
  },
  {
   "cell_type": "code",
   "execution_count": 37,
   "id": "48044a2e",
   "metadata": {},
   "outputs": [],
   "source": [
    "url = \"https://api.github.com/repos/ArisGoulas/lab-list-comprehensions/commits\""
   ]
  },
  {
   "cell_type": "code",
   "execution_count": 38,
   "id": "d11ae111",
   "metadata": {},
   "outputs": [],
   "source": [
    "two_weeks_ago = datetime.datetime.now() - datetime.timedelta(days=14)\n",
    "two_weeks_ago = two_weeks_ago.strftime(\"%Y-%m-%dT%H:%M:%SZ\")"
   ]
  },
  {
   "cell_type": "code",
   "execution_count": 39,
   "id": "61246a8a",
   "metadata": {},
   "outputs": [
    {
     "data": {
      "text/plain": [
       "<Response [200]>"
      ]
     },
     "execution_count": 39,
     "metadata": {},
     "output_type": "execute_result"
    }
   ],
   "source": [
    "response = requests.get(url, params={\"since\":two_weeks_ago})\n",
    "response"
   ]
  },
  {
   "cell_type": "code",
   "execution_count": 40,
   "id": "974b3591",
   "metadata": {},
   "outputs": [
    {
     "data": {
      "text/plain": [
       "0"
      ]
     },
     "execution_count": 40,
     "metadata": {},
     "output_type": "execute_result"
    }
   ],
   "source": [
    "len(response.json())"
   ]
  },
  {
   "cell_type": "code",
   "execution_count": null,
   "id": "afc05a9b",
   "metadata": {},
   "outputs": [],
   "source": []
  }
 ],
 "metadata": {
  "kernelspec": {
   "display_name": "Python 3 (ipykernel)",
   "language": "python",
   "name": "python3"
  },
  "language_info": {
   "codemirror_mode": {
    "name": "ipython",
    "version": 3
   },
   "file_extension": ".py",
   "mimetype": "text/x-python",
   "name": "python",
   "nbconvert_exporter": "python",
   "pygments_lexer": "ipython3",
   "version": "3.10.10"
  }
 },
 "nbformat": 4,
 "nbformat_minor": 5
}

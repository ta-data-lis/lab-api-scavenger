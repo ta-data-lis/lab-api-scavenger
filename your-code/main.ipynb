{
 "cells": [
  {
   "cell_type": "markdown",
   "metadata": {},
   "source": [
    "### Challenge 1: Fork Languages\n",
    "\n",
    "You will find out how many programming languages are used among all the forks created from the main lab repo of your bootcamp. Assuming the main lab repo is  `ironhack-datalabs/bcn-feb-2019`, you will:\n",
    "\n",
    "1. Obtain the full list of forks created from the main lab repo via Github API.\n",
    "\n",
    "1. Loop the JSON response to find out the `language` attribute of each fork. Use an array to store the `language` attributes of each fork.\n",
    "    * *Hint: Each language should appear only once in your array.*\n",
    "\n",
    "1. Print the language array. It should be something like:\n",
    "\n",
    "\t```[\"Python\", \"Jupyter Notebook\", \"HTML\"]```\n",
    "\n",
    "Again, the documentation of Github API is [here](https://developer.github.com/v3/)."
   ]
  },
  {
   "cell_type": "code",
   "execution_count": 1,
   "metadata": {},
   "outputs": [],
   "source": [
    "import requests\n",
    "import json\n",
    "import pandas as pd\n",
    "from requests.auth import HTTPBasicAuth\n",
    "from getpass import getpass"
   ]
  },
  {
   "cell_type": "code",
   "execution_count": 2,
   "metadata": {},
   "outputs": [
    {
     "data": {
      "text/plain": [
       "200"
      ]
     },
     "metadata": {},
     "output_type": "display_data"
    },
    {
     "data": {
      "text/plain": [
       "[None, 'Jupyter Notebook']"
      ]
     },
     "execution_count": 2,
     "metadata": {},
     "output_type": "execute_result"
    }
   ],
   "source": [
    "url = \"https://api.github.com/repos/ta-data-lis/lab-map-reduce-filter/forks\"\n",
    "response = requests.get(url)\n",
    "# check if connection succcessful\n",
    "display(response.status_code)\n",
    "response.text\n",
    "response.json()\n",
    "forks = pd.DataFrame(response.json())\n",
    "language = []\n",
    "for element in forks['language']:\n",
    "    if element not in language:\n",
    "        language.append(element)\n",
    "language"
   ]
  },
  {
   "cell_type": "markdown",
   "metadata": {},
   "source": [
    "### Challenge 2: Count Commits\n",
    "\n",
    "Assuming the main lab repo is `ta-data-lis/lab-mysql-first-queries`, you will count how many commits were made in the past 2 weeks:\n",
    "\n",
    "1. Obtain all the commits made in the past 2 weeks via API, which is a JSON array that contains multiple commit objects.\n",
    "\n",
    "1. Count how many commit objects are contained in the array.\n",
    "\n",
    "Notes:\n",
    "\n",
    "* Github API documentation can be found [here](https://developer.github.com/v3/).\n",
    "\n",
    "* You will need to study the Github API documentation to decide which API endpoint to call and what parameters to use in order to obtain the information you need. Unless you are already super familiar with Github API or super lucky, you probably will do some trials and errors. Therefore, be prepared to go back and forth in studying the API documentation, testing, and revising until you obtain what you need.\n",
    "\n",
    "* After receiving the JSON data object, you need to inspect its structure and decide how to parse the data.\n",
    "\n",
    "* When you test your requests with Github API, sometimes you may be blocked by Github with an error message that reads:\n",
    "\n",
    "\t> You have triggered an abuse detection mechanism and have been temporarily blocked from content creation. Please retry your request again later.\n",
    "\n",
    "\tDon't worry. Check the parameters in your request and wait for a minute or two before you make additional requests."
   ]
  },
  {
   "cell_type": "code",
   "execution_count": 3,
   "metadata": {},
   "outputs": [
    {
     "name": "stdout",
     "output_type": "stream",
     "text": [
      "https://api.github.com/repos/ta-data-lis/lab-mysql-first-queries/commits?since=2020-10-13\n"
     ]
    },
    {
     "data": {
      "text/plain": [
       "200"
      ]
     },
     "metadata": {},
     "output_type": "display_data"
    },
    {
     "data": {
      "text/plain": [
       "(0, 0)"
      ]
     },
     "execution_count": 3,
     "metadata": {},
     "output_type": "execute_result"
    }
   ],
   "source": [
    "from datetime import datetime, timedelta\n",
    "date = str(datetime.now() - timedelta(days=14))[:10]\n",
    "date\n",
    "url = 'https://api.github.com/repos/ta-data-lis/lab-mysql-first-queries/commits?since='+date\n",
    "print(url)\n",
    "response = requests.get(url)\n",
    "# check if connection succcessful\n",
    "display(response.status_code)\n",
    "response.text\n",
    "response.json()\n",
    "df = pd.json_normalize(response.json()).head()\n",
    "df.shape"
   ]
  }
 ],
 "metadata": {
  "kernelspec": {
   "display_name": "Python 3",
   "language": "python",
   "name": "python3"
  },
  "language_info": {
   "codemirror_mode": {
    "name": "ipython",
    "version": 3
   },
   "file_extension": ".py",
   "mimetype": "text/x-python",
   "name": "python",
   "nbconvert_exporter": "python",
   "pygments_lexer": "ipython3",
   "version": "3.8.5"
  }
 },
 "nbformat": 4,
 "nbformat_minor": 4
}

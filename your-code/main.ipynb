{
 "cells": [
  {
   "cell_type": "markdown",
   "metadata": {},
   "source": [
    "# Testing"
   ]
  },
  {
   "cell_type": "code",
   "execution_count": 81,
   "metadata": {},
   "outputs": [],
   "source": [
    "import json\n",
    "import requests\n",
    "import pandas as pd\n",
    "from github import Github"
   ]
  },
  {
   "cell_type": "code",
   "execution_count": 42,
   "metadata": {},
   "outputs": [
    {
     "data": {
      "text/plain": [
       "<Response [200]>"
      ]
     },
     "execution_count": 42,
     "metadata": {},
     "output_type": "execute_result"
    }
   ],
   "source": [
    "response = requests.get('https://api.github.com/repos/ironhack-datalabs/bcn-feb-2019/forks')\n",
    "response"
   ]
  },
  {
   "cell_type": "code",
   "execution_count": 51,
   "metadata": {},
   "outputs": [],
   "source": [
    "response_df = pd.DataFrame(response.json())"
   ]
  },
  {
   "cell_type": "code",
   "execution_count": null,
   "metadata": {},
   "outputs": [],
   "source": [
    "response_df['language'][response_df['language'].isnull() == False].unique()"
   ]
  },
  {
   "cell_type": "code",
   "execution_count": null,
   "metadata": {},
   "outputs": [],
   "source": [
    "#andrea solution\n",
    "response = requests.get('https://api.github.com/repos/ironhack-datalabs/bcn-feb-2019/languages')\n",
    "response"
   ]
  },
  {
   "cell_type": "code",
   "execution_count": 38,
   "metadata": {},
   "outputs": [],
   "source": [
    "lang = response.json()"
   ]
  },
  {
   "cell_type": "code",
   "execution_count": 32,
   "metadata": {},
   "outputs": [
    {
     "data": {
      "text/plain": [
       "['Jupyter Notebook', 'HTML', 'Python']"
      ]
     },
     "execution_count": 32,
     "metadata": {},
     "output_type": "execute_result"
    }
   ],
   "source": [
    "lang_final = [lang for lang in lang.keys()]\n",
    "lang_final"
   ]
  },
  {
   "cell_type": "markdown",
   "metadata": {},
   "source": [
    "# Challenge 1: Fork languages"
   ]
  },
  {
   "cell_type": "code",
   "execution_count": 72,
   "metadata": {},
   "outputs": [
    {
     "data": {
      "text/plain": [
       "<Response [200]>"
      ]
     },
     "execution_count": 72,
     "metadata": {},
     "output_type": "execute_result"
    }
   ],
   "source": [
    "response = requests.get('https://api.github.com/repos/ironhack-datalabs/bcn-feb-2019/forks')\n",
    "response"
   ]
  },
  {
   "cell_type": "code",
   "execution_count": 75,
   "metadata": {},
   "outputs": [
    {
     "data": {
      "text/html": [
       "<div>\n",
       "<style scoped>\n",
       "    .dataframe tbody tr th:only-of-type {\n",
       "        vertical-align: middle;\n",
       "    }\n",
       "\n",
       "    .dataframe tbody tr th {\n",
       "        vertical-align: top;\n",
       "    }\n",
       "\n",
       "    .dataframe thead th {\n",
       "        text-align: right;\n",
       "    }\n",
       "</style>\n",
       "<table border=\"1\" class=\"dataframe\">\n",
       "  <thead>\n",
       "    <tr style=\"text-align: right;\">\n",
       "      <th></th>\n",
       "      <th>id</th>\n",
       "      <th>node_id</th>\n",
       "      <th>name</th>\n",
       "      <th>full_name</th>\n",
       "      <th>private</th>\n",
       "      <th>owner</th>\n",
       "      <th>html_url</th>\n",
       "      <th>description</th>\n",
       "      <th>fork</th>\n",
       "      <th>url</th>\n",
       "      <th>...</th>\n",
       "      <th>forks_count</th>\n",
       "      <th>mirror_url</th>\n",
       "      <th>archived</th>\n",
       "      <th>disabled</th>\n",
       "      <th>open_issues_count</th>\n",
       "      <th>license</th>\n",
       "      <th>forks</th>\n",
       "      <th>open_issues</th>\n",
       "      <th>watchers</th>\n",
       "      <th>default_branch</th>\n",
       "    </tr>\n",
       "  </thead>\n",
       "  <tbody>\n",
       "    <tr>\n",
       "      <th>0</th>\n",
       "      <td>332775885</td>\n",
       "      <td>MDEwOlJlcG9zaXRvcnkzMzI3NzU4ODU=</td>\n",
       "      <td>bcn-feb-2019</td>\n",
       "      <td>MRibas123/bcn-feb-2019</td>\n",
       "      <td>False</td>\n",
       "      <td>{'login': 'MRibas123', 'id': 76017312, 'node_i...</td>\n",
       "      <td>https://github.com/MRibas123/bcn-feb-2019</td>\n",
       "      <td>None</td>\n",
       "      <td>True</td>\n",
       "      <td>https://api.github.com/repos/MRibas123/bcn-feb...</td>\n",
       "      <td>...</td>\n",
       "      <td>0</td>\n",
       "      <td>None</td>\n",
       "      <td>False</td>\n",
       "      <td>False</td>\n",
       "      <td>0</td>\n",
       "      <td>{'key': 'agpl-3.0', 'name': 'GNU Affero Genera...</td>\n",
       "      <td>0</td>\n",
       "      <td>0</td>\n",
       "      <td>0</td>\n",
       "      <td>master</td>\n",
       "    </tr>\n",
       "    <tr>\n",
       "      <th>1</th>\n",
       "      <td>319429421</td>\n",
       "      <td>MDEwOlJlcG9zaXRvcnkzMTk0Mjk0MjE=</td>\n",
       "      <td>bcn-feb-2019</td>\n",
       "      <td>MariaEstebanDA/bcn-feb-2019</td>\n",
       "      <td>False</td>\n",
       "      <td>{'login': 'MariaEstebanDA', 'id': 72495380, 'n...</td>\n",
       "      <td>https://github.com/MariaEstebanDA/bcn-feb-2019</td>\n",
       "      <td>None</td>\n",
       "      <td>True</td>\n",
       "      <td>https://api.github.com/repos/MariaEstebanDA/bc...</td>\n",
       "      <td>...</td>\n",
       "      <td>0</td>\n",
       "      <td>None</td>\n",
       "      <td>False</td>\n",
       "      <td>False</td>\n",
       "      <td>0</td>\n",
       "      <td>{'key': 'agpl-3.0', 'name': 'GNU Affero Genera...</td>\n",
       "      <td>0</td>\n",
       "      <td>0</td>\n",
       "      <td>0</td>\n",
       "      <td>master</td>\n",
       "    </tr>\n",
       "    <tr>\n",
       "      <th>2</th>\n",
       "      <td>318578020</td>\n",
       "      <td>MDEwOlJlcG9zaXRvcnkzMTg1NzgwMjA=</td>\n",
       "      <td>bcn-feb-2019</td>\n",
       "      <td>je-nakajima/bcn-feb-2019</td>\n",
       "      <td>False</td>\n",
       "      <td>{'login': 'je-nakajima', 'id': 71846807, 'node...</td>\n",
       "      <td>https://github.com/je-nakajima/bcn-feb-2019</td>\n",
       "      <td>None</td>\n",
       "      <td>True</td>\n",
       "      <td>https://api.github.com/repos/je-nakajima/bcn-f...</td>\n",
       "      <td>...</td>\n",
       "      <td>0</td>\n",
       "      <td>None</td>\n",
       "      <td>False</td>\n",
       "      <td>False</td>\n",
       "      <td>0</td>\n",
       "      <td>{'key': 'agpl-3.0', 'name': 'GNU Affero Genera...</td>\n",
       "      <td>0</td>\n",
       "      <td>0</td>\n",
       "      <td>0</td>\n",
       "      <td>master</td>\n",
       "    </tr>\n",
       "    <tr>\n",
       "      <th>3</th>\n",
       "      <td>278336683</td>\n",
       "      <td>MDEwOlJlcG9zaXRvcnkyNzgzMzY2ODM=</td>\n",
       "      <td>bcn-feb-2019</td>\n",
       "      <td>franbaldi/bcn-feb-2019</td>\n",
       "      <td>False</td>\n",
       "      <td>{'login': 'franbaldi', 'id': 25199469, 'node_i...</td>\n",
       "      <td>https://github.com/franbaldi/bcn-feb-2019</td>\n",
       "      <td>None</td>\n",
       "      <td>True</td>\n",
       "      <td>https://api.github.com/repos/franbaldi/bcn-feb...</td>\n",
       "      <td>...</td>\n",
       "      <td>0</td>\n",
       "      <td>None</td>\n",
       "      <td>False</td>\n",
       "      <td>False</td>\n",
       "      <td>0</td>\n",
       "      <td>{'key': 'agpl-3.0', 'name': 'GNU Affero Genera...</td>\n",
       "      <td>0</td>\n",
       "      <td>0</td>\n",
       "      <td>0</td>\n",
       "      <td>master</td>\n",
       "    </tr>\n",
       "    <tr>\n",
       "      <th>4</th>\n",
       "      <td>276718167</td>\n",
       "      <td>MDEwOlJlcG9zaXRvcnkyNzY3MTgxNjc=</td>\n",
       "      <td>bcn-feb-2019</td>\n",
       "      <td>brunacarolino/bcn-feb-2019</td>\n",
       "      <td>False</td>\n",
       "      <td>{'login': 'brunacarolino', 'id': 67610079, 'no...</td>\n",
       "      <td>https://github.com/brunacarolino/bcn-feb-2019</td>\n",
       "      <td>None</td>\n",
       "      <td>True</td>\n",
       "      <td>https://api.github.com/repos/brunacarolino/bcn...</td>\n",
       "      <td>...</td>\n",
       "      <td>0</td>\n",
       "      <td>None</td>\n",
       "      <td>False</td>\n",
       "      <td>False</td>\n",
       "      <td>0</td>\n",
       "      <td>{'key': 'agpl-3.0', 'name': 'GNU Affero Genera...</td>\n",
       "      <td>0</td>\n",
       "      <td>0</td>\n",
       "      <td>0</td>\n",
       "      <td>master</td>\n",
       "    </tr>\n",
       "  </tbody>\n",
       "</table>\n",
       "<p>5 rows × 73 columns</p>\n",
       "</div>"
      ],
      "text/plain": [
       "          id                           node_id          name  \\\n",
       "0  332775885  MDEwOlJlcG9zaXRvcnkzMzI3NzU4ODU=  bcn-feb-2019   \n",
       "1  319429421  MDEwOlJlcG9zaXRvcnkzMTk0Mjk0MjE=  bcn-feb-2019   \n",
       "2  318578020  MDEwOlJlcG9zaXRvcnkzMTg1NzgwMjA=  bcn-feb-2019   \n",
       "3  278336683  MDEwOlJlcG9zaXRvcnkyNzgzMzY2ODM=  bcn-feb-2019   \n",
       "4  276718167  MDEwOlJlcG9zaXRvcnkyNzY3MTgxNjc=  bcn-feb-2019   \n",
       "\n",
       "                     full_name  private  \\\n",
       "0       MRibas123/bcn-feb-2019    False   \n",
       "1  MariaEstebanDA/bcn-feb-2019    False   \n",
       "2     je-nakajima/bcn-feb-2019    False   \n",
       "3       franbaldi/bcn-feb-2019    False   \n",
       "4   brunacarolino/bcn-feb-2019    False   \n",
       "\n",
       "                                               owner  \\\n",
       "0  {'login': 'MRibas123', 'id': 76017312, 'node_i...   \n",
       "1  {'login': 'MariaEstebanDA', 'id': 72495380, 'n...   \n",
       "2  {'login': 'je-nakajima', 'id': 71846807, 'node...   \n",
       "3  {'login': 'franbaldi', 'id': 25199469, 'node_i...   \n",
       "4  {'login': 'brunacarolino', 'id': 67610079, 'no...   \n",
       "\n",
       "                                         html_url description  fork  \\\n",
       "0       https://github.com/MRibas123/bcn-feb-2019        None  True   \n",
       "1  https://github.com/MariaEstebanDA/bcn-feb-2019        None  True   \n",
       "2     https://github.com/je-nakajima/bcn-feb-2019        None  True   \n",
       "3       https://github.com/franbaldi/bcn-feb-2019        None  True   \n",
       "4   https://github.com/brunacarolino/bcn-feb-2019        None  True   \n",
       "\n",
       "                                                 url  ... forks_count  \\\n",
       "0  https://api.github.com/repos/MRibas123/bcn-feb...  ...           0   \n",
       "1  https://api.github.com/repos/MariaEstebanDA/bc...  ...           0   \n",
       "2  https://api.github.com/repos/je-nakajima/bcn-f...  ...           0   \n",
       "3  https://api.github.com/repos/franbaldi/bcn-feb...  ...           0   \n",
       "4  https://api.github.com/repos/brunacarolino/bcn...  ...           0   \n",
       "\n",
       "  mirror_url archived disabled open_issues_count  \\\n",
       "0       None    False    False                 0   \n",
       "1       None    False    False                 0   \n",
       "2       None    False    False                 0   \n",
       "3       None    False    False                 0   \n",
       "4       None    False    False                 0   \n",
       "\n",
       "                                             license forks open_issues  \\\n",
       "0  {'key': 'agpl-3.0', 'name': 'GNU Affero Genera...     0           0   \n",
       "1  {'key': 'agpl-3.0', 'name': 'GNU Affero Genera...     0           0   \n",
       "2  {'key': 'agpl-3.0', 'name': 'GNU Affero Genera...     0           0   \n",
       "3  {'key': 'agpl-3.0', 'name': 'GNU Affero Genera...     0           0   \n",
       "4  {'key': 'agpl-3.0', 'name': 'GNU Affero Genera...     0           0   \n",
       "\n",
       "  watchers default_branch  \n",
       "0        0         master  \n",
       "1        0         master  \n",
       "2        0         master  \n",
       "3        0         master  \n",
       "4        0         master  \n",
       "\n",
       "[5 rows x 73 columns]"
      ]
     },
     "execution_count": 75,
     "metadata": {},
     "output_type": "execute_result"
    }
   ],
   "source": [
    "response_df = pd.DataFrame(response.json())\n",
    "response_df"
   ]
  },
  {
   "cell_type": "code",
   "execution_count": 74,
   "metadata": {},
   "outputs": [
    {
     "data": {
      "text/plain": [
       "array(['Jupyter Notebook'], dtype=object)"
      ]
     },
     "execution_count": 74,
     "metadata": {},
     "output_type": "execute_result"
    }
   ],
   "source": [
    "response_df['language'][response_df['language'].isnull() == False].unique()"
   ]
  },
  {
   "cell_type": "markdown",
   "metadata": {},
   "source": [
    "# Challenge 2: Count Commits"
   ]
  },
  {
   "cell_type": "code",
   "execution_count": 76,
   "metadata": {},
   "outputs": [],
   "source": [
    "import pandas as pd\n",
    "from pandas.io.json import json_normalize"
   ]
  },
  {
   "cell_type": "code",
   "execution_count": 77,
   "metadata": {},
   "outputs": [
    {
     "data": {
      "text/plain": [
       "<Response [200]>"
      ]
     },
     "execution_count": 77,
     "metadata": {},
     "output_type": "execute_result"
    }
   ],
   "source": [
    "response = requests.get('https://api.github.com/repos/ta-data-lis/lab-mysql-first-queries/commits')\n",
    "response"
   ]
  },
  {
   "cell_type": "code",
   "execution_count": 78,
   "metadata": {},
   "outputs": [
    {
     "data": {
      "text/html": [
       "<div>\n",
       "<style scoped>\n",
       "    .dataframe tbody tr th:only-of-type {\n",
       "        vertical-align: middle;\n",
       "    }\n",
       "\n",
       "    .dataframe tbody tr th {\n",
       "        vertical-align: top;\n",
       "    }\n",
       "\n",
       "    .dataframe thead th {\n",
       "        text-align: right;\n",
       "    }\n",
       "</style>\n",
       "<table border=\"1\" class=\"dataframe\">\n",
       "  <thead>\n",
       "    <tr style=\"text-align: right;\">\n",
       "      <th></th>\n",
       "      <th>sha</th>\n",
       "      <th>node_id</th>\n",
       "      <th>commit</th>\n",
       "      <th>url</th>\n",
       "      <th>html_url</th>\n",
       "      <th>comments_url</th>\n",
       "      <th>author</th>\n",
       "      <th>committer</th>\n",
       "      <th>parents</th>\n",
       "    </tr>\n",
       "  </thead>\n",
       "  <tbody>\n",
       "    <tr>\n",
       "      <th>0</th>\n",
       "      <td>6a243303cfd846faac16417cad54cd40ab3f82c6</td>\n",
       "      <td>MDY6Q29tbWl0MjAzMTMyMjg2OjZhMjQzMzAzY2ZkODQ2Zm...</td>\n",
       "      <td>{'author': {'name': 'Carlos Madriz', 'email': ...</td>\n",
       "      <td>https://api.github.com/repos/ta-data-lis/lab-m...</td>\n",
       "      <td>https://github.com/ta-data-lis/lab-mysql-first...</td>\n",
       "      <td>https://api.github.com/repos/ta-data-lis/lab-m...</td>\n",
       "      <td>{'login': 'carlosmd14', 'id': 45972288, 'node_...</td>\n",
       "      <td>{'login': 'web-flow', 'id': 19864447, 'node_id...</td>\n",
       "      <td>[{'sha': 'ee6d046595a26c76425df9fffdb6ed6737c7...</td>\n",
       "    </tr>\n",
       "    <tr>\n",
       "      <th>1</th>\n",
       "      <td>ee6d046595a26c76425df9fffdb6ed6737c7c06b</td>\n",
       "      <td>MDY6Q29tbWl0MjAzMTMyMjg2OmVlNmQwNDY1OTVhMjZjNz...</td>\n",
       "      <td>{'author': {'name': 'Carlos Madriz', 'email': ...</td>\n",
       "      <td>https://api.github.com/repos/ta-data-lis/lab-m...</td>\n",
       "      <td>https://github.com/ta-data-lis/lab-mysql-first...</td>\n",
       "      <td>https://api.github.com/repos/ta-data-lis/lab-m...</td>\n",
       "      <td>{'login': 'carlosmd14', 'id': 45972288, 'node_...</td>\n",
       "      <td>{'login': 'web-flow', 'id': 19864447, 'node_id...</td>\n",
       "      <td>[{'sha': '381994f755b6b95ffc4fe512f36e2640bd04...</td>\n",
       "    </tr>\n",
       "    <tr>\n",
       "      <th>2</th>\n",
       "      <td>381994f755b6b95ffc4fe512f36e2640bd04034f</td>\n",
       "      <td>MDY6Q29tbWl0MjAzMTMyMjg2OjM4MTk5NGY3NTViNmI5NW...</td>\n",
       "      <td>{'author': {'name': 'Carlos Madriz', 'email': ...</td>\n",
       "      <td>https://api.github.com/repos/ta-data-lis/lab-m...</td>\n",
       "      <td>https://github.com/ta-data-lis/lab-mysql-first...</td>\n",
       "      <td>https://api.github.com/repos/ta-data-lis/lab-m...</td>\n",
       "      <td>{'login': 'carlosmd14', 'id': 45972288, 'node_...</td>\n",
       "      <td>{'login': 'web-flow', 'id': 19864447, 'node_id...</td>\n",
       "      <td>[{'sha': '2e9b232b72bec7218cd77f171098a7391d89...</td>\n",
       "    </tr>\n",
       "    <tr>\n",
       "      <th>3</th>\n",
       "      <td>2e9b232b72bec7218cd77f171098a7391d89ba8c</td>\n",
       "      <td>MDY6Q29tbWl0MjAzMTMyMjg2OjJlOWIyMzJiNzJiZWM3Mj...</td>\n",
       "      <td>{'author': {'name': 'Carla Mendes', 'email': '...</td>\n",
       "      <td>https://api.github.com/repos/ta-data-lis/lab-m...</td>\n",
       "      <td>https://github.com/ta-data-lis/lab-mysql-first...</td>\n",
       "      <td>https://api.github.com/repos/ta-data-lis/lab-m...</td>\n",
       "      <td>{'login': 'carlarsmendes', 'id': 38359702, 'no...</td>\n",
       "      <td>{'login': 'carlarsmendes', 'id': 38359702, 'no...</td>\n",
       "      <td>[]</td>\n",
       "    </tr>\n",
       "  </tbody>\n",
       "</table>\n",
       "</div>"
      ],
      "text/plain": [
       "                                        sha  \\\n",
       "0  6a243303cfd846faac16417cad54cd40ab3f82c6   \n",
       "1  ee6d046595a26c76425df9fffdb6ed6737c7c06b   \n",
       "2  381994f755b6b95ffc4fe512f36e2640bd04034f   \n",
       "3  2e9b232b72bec7218cd77f171098a7391d89ba8c   \n",
       "\n",
       "                                             node_id  \\\n",
       "0  MDY6Q29tbWl0MjAzMTMyMjg2OjZhMjQzMzAzY2ZkODQ2Zm...   \n",
       "1  MDY6Q29tbWl0MjAzMTMyMjg2OmVlNmQwNDY1OTVhMjZjNz...   \n",
       "2  MDY6Q29tbWl0MjAzMTMyMjg2OjM4MTk5NGY3NTViNmI5NW...   \n",
       "3  MDY6Q29tbWl0MjAzMTMyMjg2OjJlOWIyMzJiNzJiZWM3Mj...   \n",
       "\n",
       "                                              commit  \\\n",
       "0  {'author': {'name': 'Carlos Madriz', 'email': ...   \n",
       "1  {'author': {'name': 'Carlos Madriz', 'email': ...   \n",
       "2  {'author': {'name': 'Carlos Madriz', 'email': ...   \n",
       "3  {'author': {'name': 'Carla Mendes', 'email': '...   \n",
       "\n",
       "                                                 url  \\\n",
       "0  https://api.github.com/repos/ta-data-lis/lab-m...   \n",
       "1  https://api.github.com/repos/ta-data-lis/lab-m...   \n",
       "2  https://api.github.com/repos/ta-data-lis/lab-m...   \n",
       "3  https://api.github.com/repos/ta-data-lis/lab-m...   \n",
       "\n",
       "                                            html_url  \\\n",
       "0  https://github.com/ta-data-lis/lab-mysql-first...   \n",
       "1  https://github.com/ta-data-lis/lab-mysql-first...   \n",
       "2  https://github.com/ta-data-lis/lab-mysql-first...   \n",
       "3  https://github.com/ta-data-lis/lab-mysql-first...   \n",
       "\n",
       "                                        comments_url  \\\n",
       "0  https://api.github.com/repos/ta-data-lis/lab-m...   \n",
       "1  https://api.github.com/repos/ta-data-lis/lab-m...   \n",
       "2  https://api.github.com/repos/ta-data-lis/lab-m...   \n",
       "3  https://api.github.com/repos/ta-data-lis/lab-m...   \n",
       "\n",
       "                                              author  \\\n",
       "0  {'login': 'carlosmd14', 'id': 45972288, 'node_...   \n",
       "1  {'login': 'carlosmd14', 'id': 45972288, 'node_...   \n",
       "2  {'login': 'carlosmd14', 'id': 45972288, 'node_...   \n",
       "3  {'login': 'carlarsmendes', 'id': 38359702, 'no...   \n",
       "\n",
       "                                           committer  \\\n",
       "0  {'login': 'web-flow', 'id': 19864447, 'node_id...   \n",
       "1  {'login': 'web-flow', 'id': 19864447, 'node_id...   \n",
       "2  {'login': 'web-flow', 'id': 19864447, 'node_id...   \n",
       "3  {'login': 'carlarsmendes', 'id': 38359702, 'no...   \n",
       "\n",
       "                                             parents  \n",
       "0  [{'sha': 'ee6d046595a26c76425df9fffdb6ed6737c7...  \n",
       "1  [{'sha': '381994f755b6b95ffc4fe512f36e2640bd04...  \n",
       "2  [{'sha': '2e9b232b72bec7218cd77f171098a7391d89...  \n",
       "3                                                 []  "
      ]
     },
     "execution_count": 78,
     "metadata": {},
     "output_type": "execute_result"
    }
   ],
   "source": [
    "response_df = pd.DataFrame(response.json())\n",
    "response_df"
   ]
  },
  {
   "cell_type": "code",
   "execution_count": 79,
   "metadata": {},
   "outputs": [],
   "source": [
    "norm_json = pd.json_normalize(response_df['commit'])"
   ]
  },
  {
   "cell_type": "code",
   "execution_count": 80,
   "metadata": {},
   "outputs": [
    {
     "data": {
      "text/plain": [
       "message                   0\n",
       "url                       0\n",
       "comment_count             0\n",
       "author.name               0\n",
       "author.email              0\n",
       "author.date               0\n",
       "committer.name            0\n",
       "committer.email           0\n",
       "committer.date            0\n",
       "tree.sha                  0\n",
       "tree.url                  0\n",
       "verification.verified     0\n",
       "verification.reason       0\n",
       "verification.signature    0\n",
       "verification.payload      0\n",
       "dtype: int64"
      ]
     },
     "execution_count": 80,
     "metadata": {},
     "output_type": "execute_result"
    }
   ],
   "source": [
    "norm_json['committer.date'] = pd.to_datetime(norm_json['committer.date'])\n",
    "norm_json[norm_json['committer.date'] > '2021-01-15'].count()"
   ]
  }
 ],
 "metadata": {
  "kernelspec": {
   "display_name": "Python 3",
   "language": "python",
   "name": "python3"
  },
  "language_info": {
   "codemirror_mode": {
    "name": "ipython",
    "version": 3
   },
   "file_extension": ".py",
   "mimetype": "text/x-python",
   "name": "python",
   "nbconvert_exporter": "python",
   "pygments_lexer": "ipython3",
   "version": "3.8.5"
  }
 },
 "nbformat": 4,
 "nbformat_minor": 4
}

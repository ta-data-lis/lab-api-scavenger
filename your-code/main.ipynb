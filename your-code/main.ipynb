{
 "cells": [
  {
   "cell_type": "code",
   "execution_count": 61,
   "metadata": {},
   "outputs": [],
   "source": [
    "import requests\n",
    "from requests.auth import HTTPBasicAuth"
   ]
  },
  {
   "cell_type": "code",
   "execution_count": 86,
   "metadata": {},
   "outputs": [
    {
     "data": {
      "text/plain": [
       "200"
      ]
     },
     "execution_count": 86,
     "metadata": {},
     "output_type": "execute_result"
    }
   ],
   "source": [
    "# Make a request to the endpoint and check the status code\n",
    "url = 'https://api.github.com/repos/ta-data-lis/python-project/forks'\n",
    "response = requests.get(url)\n",
    "response.status_code"
   ]
  },
  {
   "cell_type": "code",
   "execution_count": 88,
   "metadata": {},
   "outputs": [
    {
     "data": {
      "text/plain": [
       "{'Jupyter Notebook', None, 'Python'}"
      ]
     },
     "execution_count": 88,
     "metadata": {},
     "output_type": "execute_result"
    }
   ],
   "source": [
    "# parse the response and append the language to the list\n",
    "# turn it into a set so we have only distinct values\n",
    "json = response.json()\n",
    "languages = []\n",
    "for i in json:\n",
    "    languages.append(i['language'])\n",
    "set(languages)"
   ]
  },
  {
   "cell_type": "code",
   "execution_count": 91,
   "metadata": {},
   "outputs": [
    {
     "data": {
      "text/plain": [
       "200"
      ]
     },
     "execution_count": 91,
     "metadata": {},
     "output_type": "execute_result"
    }
   ],
   "source": [
    "# request our own repo for 3d project, so we know there are commits with less than 2 weeks\n",
    "url = 'https://api.github.com/repos/calvinhus/api_project/commits'\n",
    "\n",
    "response2 = requests.get(url)\n",
    "response2.status_code"
   ]
  },
  {
   "cell_type": "code",
   "execution_count": 112,
   "metadata": {},
   "outputs": [
    {
     "name": "stdout",
     "output_type": "stream",
     "text": [
      "Total commits:  24\n"
     ]
    }
   ],
   "source": [
    "import datetime as dt\n",
    "\n",
    "commits = response2.json()\n",
    "#initialize counter\n",
    "total_commits = 0\n",
    "# define a datetime object with the date for 2 weeks ago\n",
    "two_weeks_ago = dt.date.today() - dt.timedelta(days=14)\n",
    "# loop through response\n",
    "for c in commits:\n",
    "    commit_date = c['commit']['author']['date'][0:10] # to be in the form yyyy-mm-dd\n",
    "    if commit_date >= str(two_weeks_ago):\n",
    "        total_commits += 1\n",
    "    else:\n",
    "        continue\n",
    "print(\"Total commits: \", total_commits)"
   ]
  }
 ],
 "metadata": {
  "interpreter": {
   "hash": "709dff25c2d76474f744915f79451dec435bc123e376f2a3c938bc46a95902a7"
  },
  "kernelspec": {
   "display_name": "Python 3.9.4 64-bit",
   "language": "python",
   "name": "python3"
  },
  "language_info": {
   "codemirror_mode": {
    "name": "ipython",
    "version": 3
   },
   "file_extension": ".py",
   "mimetype": "text/x-python",
   "name": "python",
   "nbconvert_exporter": "python",
   "pygments_lexer": "ipython3",
   "version": "3.9.4"
  },
  "orig_nbformat": 4
 },
 "nbformat": 4,
 "nbformat_minor": 2
}

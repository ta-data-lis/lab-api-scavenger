{
 "cells": [
  {
   "cell_type": "code",
   "execution_count": 2,
   "id": "068e51f1",
   "metadata": {},
   "outputs": [],
   "source": [
    "import requests"
   ]
  },
  {
   "cell_type": "code",
   "execution_count": 14,
   "id": "1d708b5d",
   "metadata": {},
   "outputs": [
    {
     "data": {
      "text/plain": [
       "['Jupyter Notebook']"
      ]
     },
     "execution_count": 14,
     "metadata": {},
     "output_type": "execute_result"
    }
   ],
   "source": [
    "# Challenge 1\n",
    "url = 'https://api.github.com/repos/ironhack-datalabs/bcn-feb-2019/forks'\n",
    "\n",
    "response = requests.get(url)\n",
    "\n",
    "languages = list()\n",
    "for i in response.json():\n",
    "    if i['language'] != None:\n",
    "        languages.append(i['language'])\n",
    "    \n",
    "languages = list(set(languages))\n",
    "languages"
   ]
  },
  {
   "cell_type": "code",
   "execution_count": 10,
   "id": "f66afdce",
   "metadata": {},
   "outputs": [
    {
     "data": {
      "text/plain": [
       "[]"
      ]
     },
     "execution_count": 10,
     "metadata": {},
     "output_type": "execute_result"
    }
   ],
   "source": [
    "# Challenge 2\n",
    "url = 'https://api.github.com/repos/ta-data-lis/lab-mysql-first-queries/commits'\n",
    "\n",
    "response = response = requests.get(url, {'since': '2021-12-30T15:30:00Z'})\n",
    "\n",
    "response.json()"
   ]
  }
 ],
 "metadata": {
  "kernelspec": {
   "display_name": "Python 3 (ipykernel)",
   "language": "python",
   "name": "python3"
  },
  "language_info": {
   "codemirror_mode": {
    "name": "ipython",
    "version": 3
   },
   "file_extension": ".py",
   "mimetype": "text/x-python",
   "name": "python",
   "nbconvert_exporter": "python",
   "pygments_lexer": "ipython3",
   "version": "3.9.7"
  }
 },
 "nbformat": 4,
 "nbformat_minor": 5
}

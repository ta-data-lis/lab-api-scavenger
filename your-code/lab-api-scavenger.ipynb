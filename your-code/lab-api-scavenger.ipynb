{
 "cells": [
  {
   "cell_type": "markdown",
   "metadata": {},
   "source": [
    "# API Scavenger Lab\n",
    "## Week 3 - Ironhack Data Analytics Bootcamp\n",
    "\n",
    "### Challenge 1: Fork Languages"
   ]
  },
  {
   "cell_type": "code",
   "execution_count": 3,
   "metadata": {},
   "outputs": [],
   "source": [
    "import requests\n",
    "import pandas as pd"
   ]
  },
  {
   "cell_type": "code",
   "execution_count": 4,
   "metadata": {},
   "outputs": [],
   "source": [
    "url = 'https://api.github.com/repos/ironhack-datalabs/madrid-oct-2018/languages'"
   ]
  },
  {
   "cell_type": "code",
   "execution_count": 5,
   "metadata": {},
   "outputs": [
    {
     "data": {
      "text/plain": [
       "200"
      ]
     },
     "execution_count": 5,
     "metadata": {},
     "output_type": "execute_result"
    }
   ],
   "source": [
    "# Obtaining the full list of forks created from the main lab repo:\n",
    "response = requests.get(url)\n",
    "response.status_code"
   ]
  },
  {
   "cell_type": "code",
   "execution_count": 6,
   "metadata": {},
   "outputs": [
    {
     "data": {
      "text/plain": [
       "{'Jupyter Notebook': 1134241, 'HTML': 498316, 'Python': 8691}"
      ]
     },
     "execution_count": 6,
     "metadata": {},
     "output_type": "execute_result"
    }
   ],
   "source": [
    "languageresp = response.json()\n",
    "languageresp"
   ]
  },
  {
   "cell_type": "code",
   "execution_count": 7,
   "metadata": {},
   "outputs": [
    {
     "name": "stdout",
     "output_type": "stream",
     "text": [
      "['Jupyter Notebook', 'HTML', 'Python']\n"
     ]
    }
   ],
   "source": [
    "# Looping the JSON response to find out the language attribute\n",
    "languages = [lang for lang in languageresp]\n",
    "# Printing the language array\n",
    "print(languages)"
   ]
  },
  {
   "cell_type": "markdown",
   "metadata": {},
   "source": [
    "### Challenge 2: Count Commits"
   ]
  },
  {
   "cell_type": "code",
   "execution_count": 35,
   "metadata": {},
   "outputs": [],
   "source": [
    "url = 'https://api.github.com/repos/andersgom/lab-list-comprehensions/events'"
   ]
  },
  {
   "cell_type": "code",
   "execution_count": 36,
   "metadata": {},
   "outputs": [
    {
     "data": {
      "text/plain": [
       "200"
      ]
     },
     "execution_count": 36,
     "metadata": {},
     "output_type": "execute_result"
    }
   ],
   "source": [
    "response = requests.get(url)\n",
    "response.status_code"
   ]
  },
  {
   "cell_type": "code",
   "execution_count": 42,
   "metadata": {},
   "outputs": [
    {
     "data": {
      "text/html": [
       "<div>\n",
       "<style scoped>\n",
       "    .dataframe tbody tr th:only-of-type {\n",
       "        vertical-align: middle;\n",
       "    }\n",
       "\n",
       "    .dataframe tbody tr th {\n",
       "        vertical-align: top;\n",
       "    }\n",
       "\n",
       "    .dataframe thead th {\n",
       "        text-align: right;\n",
       "    }\n",
       "</style>\n",
       "<table border=\"1\" class=\"dataframe\">\n",
       "  <thead>\n",
       "    <tr style=\"text-align: right;\">\n",
       "      <th></th>\n",
       "      <th>id</th>\n",
       "      <th>type</th>\n",
       "      <th>actor</th>\n",
       "      <th>repo</th>\n",
       "      <th>payload</th>\n",
       "      <th>public</th>\n",
       "      <th>created_at</th>\n",
       "    </tr>\n",
       "  </thead>\n",
       "  <tbody>\n",
       "    <tr>\n",
       "      <th>0</th>\n",
       "      <td>22788768322</td>\n",
       "      <td>PushEvent</td>\n",
       "      <td>{'id': 72261391, 'login': 'andersgom', 'displa...</td>\n",
       "      <td>{'id': 510440910, 'name': 'andersgom/lab-list-...</td>\n",
       "      <td>{'push_id': 10393441075, 'size': 8, 'distinct_...</td>\n",
       "      <td>True</td>\n",
       "      <td>2022-07-09T17:32:12Z</td>\n",
       "    </tr>\n",
       "    <tr>\n",
       "      <th>1</th>\n",
       "      <td>22689048019</td>\n",
       "      <td>PushEvent</td>\n",
       "      <td>{'id': 72261391, 'login': 'andersgom', 'displa...</td>\n",
       "      <td>{'id': 510440910, 'name': 'andersgom/lab-list-...</td>\n",
       "      <td>{'push_id': 10342435749, 'size': 1, 'distinct_...</td>\n",
       "      <td>True</td>\n",
       "      <td>2022-07-04T17:15:11Z</td>\n",
       "    </tr>\n",
       "  </tbody>\n",
       "</table>\n",
       "</div>"
      ],
      "text/plain": [
       "            id       type                                              actor  \\\n",
       "0  22788768322  PushEvent  {'id': 72261391, 'login': 'andersgom', 'displa...   \n",
       "1  22689048019  PushEvent  {'id': 72261391, 'login': 'andersgom', 'displa...   \n",
       "\n",
       "                                                repo  \\\n",
       "0  {'id': 510440910, 'name': 'andersgom/lab-list-...   \n",
       "1  {'id': 510440910, 'name': 'andersgom/lab-list-...   \n",
       "\n",
       "                                             payload  public  \\\n",
       "0  {'push_id': 10393441075, 'size': 8, 'distinct_...    True   \n",
       "1  {'push_id': 10342435749, 'size': 1, 'distinct_...    True   \n",
       "\n",
       "             created_at  \n",
       "0  2022-07-09T17:32:12Z  \n",
       "1  2022-07-04T17:15:11Z  "
      ]
     },
     "execution_count": 42,
     "metadata": {},
     "output_type": "execute_result"
    }
   ],
   "source": [
    "# Obtaining all the commits made in the past two weeks\n",
    "lab_commits = response.json()\n",
    "commits_df = pd.DataFrame(lab_commits)\n",
    "commits_df"
   ]
  },
  {
   "cell_type": "code",
   "execution_count": 76,
   "metadata": {},
   "outputs": [
    {
     "data": {
      "text/html": [
       "<div>\n",
       "<style scoped>\n",
       "    .dataframe tbody tr th:only-of-type {\n",
       "        vertical-align: middle;\n",
       "    }\n",
       "\n",
       "    .dataframe tbody tr th {\n",
       "        vertical-align: top;\n",
       "    }\n",
       "\n",
       "    .dataframe thead th {\n",
       "        text-align: right;\n",
       "    }\n",
       "</style>\n",
       "<table border=\"1\" class=\"dataframe\">\n",
       "  <thead>\n",
       "    <tr style=\"text-align: right;\">\n",
       "      <th></th>\n",
       "      <th>sha</th>\n",
       "      <th>author</th>\n",
       "      <th>message</th>\n",
       "      <th>distinct</th>\n",
       "      <th>url</th>\n",
       "    </tr>\n",
       "  </thead>\n",
       "  <tbody>\n",
       "    <tr>\n",
       "      <th>0</th>\n",
       "      <td>4772f7339bf2f9d5d4d539b629f0d6f0ee14b1fd</td>\n",
       "      <td>{'email': 'asgomez95@gmail.com', 'name': 'ande...</td>\n",
       "      <td>Done: Questions 1 and 2</td>\n",
       "      <td>True</td>\n",
       "      <td>https://api.github.com/repos/andersgom/lab-lis...</td>\n",
       "    </tr>\n",
       "    <tr>\n",
       "      <th>1</th>\n",
       "      <td>2673214d8541e2c721c0decc765de1591025f49c</td>\n",
       "      <td>{'email': 'asgomez95@gmail.com', 'name': 'ande...</td>\n",
       "      <td>Done: Questions 3 and 4</td>\n",
       "      <td>True</td>\n",
       "      <td>https://api.github.com/repos/andersgom/lab-lis...</td>\n",
       "    </tr>\n",
       "    <tr>\n",
       "      <th>2</th>\n",
       "      <td>92654ba2f4cceae1407c32b60e8f8bac23f035d0</td>\n",
       "      <td>{'email': 'asgomez95@gmail.com', 'name': 'ande...</td>\n",
       "      <td>Done: Questions 5 and 6</td>\n",
       "      <td>True</td>\n",
       "      <td>https://api.github.com/repos/andersgom/lab-lis...</td>\n",
       "    </tr>\n",
       "    <tr>\n",
       "      <th>3</th>\n",
       "      <td>bd175cc31d494cef5f2433105d63cce16234585b</td>\n",
       "      <td>{'email': 'asgomez95@gmail.com', 'name': 'ande...</td>\n",
       "      <td>Done: Questions 7 and 8</td>\n",
       "      <td>True</td>\n",
       "      <td>https://api.github.com/repos/andersgom/lab-lis...</td>\n",
       "    </tr>\n",
       "    <tr>\n",
       "      <th>4</th>\n",
       "      <td>7391f604701347e0cb154f82130840939be72eea</td>\n",
       "      <td>{'email': 'asgomez95@gmail.com', 'name': 'ande...</td>\n",
       "      <td>In progress: Question 9</td>\n",
       "      <td>True</td>\n",
       "      <td>https://api.github.com/repos/andersgom/lab-lis...</td>\n",
       "    </tr>\n",
       "    <tr>\n",
       "      <th>5</th>\n",
       "      <td>2abf066b7edaf95aa3af1d6574c4e9898dc3cbf6</td>\n",
       "      <td>{'email': 'asgomez95@gmail.com', 'name': 'ande...</td>\n",
       "      <td>Done: Question 9. In progress: Question 10</td>\n",
       "      <td>True</td>\n",
       "      <td>https://api.github.com/repos/andersgom/lab-lis...</td>\n",
       "    </tr>\n",
       "    <tr>\n",
       "      <th>6</th>\n",
       "      <td>b698ee999d99852a16cc4075daadac2abb5b4608</td>\n",
       "      <td>{'email': 'asgomez95@gmail.com', 'name': 'ande...</td>\n",
       "      <td>Done: Question 10</td>\n",
       "      <td>True</td>\n",
       "      <td>https://api.github.com/repos/andersgom/lab-lis...</td>\n",
       "    </tr>\n",
       "    <tr>\n",
       "      <th>7</th>\n",
       "      <td>b444107b8fa363d49f7141613fc24f417a22886f</td>\n",
       "      <td>{'email': 'asgomez95@gmail.com', 'name': 'ande...</td>\n",
       "      <td>List comprehensions Lab Done</td>\n",
       "      <td>True</td>\n",
       "      <td>https://api.github.com/repos/andersgom/lab-lis...</td>\n",
       "    </tr>\n",
       "  </tbody>\n",
       "</table>\n",
       "</div>"
      ],
      "text/plain": [
       "                                        sha  \\\n",
       "0  4772f7339bf2f9d5d4d539b629f0d6f0ee14b1fd   \n",
       "1  2673214d8541e2c721c0decc765de1591025f49c   \n",
       "2  92654ba2f4cceae1407c32b60e8f8bac23f035d0   \n",
       "3  bd175cc31d494cef5f2433105d63cce16234585b   \n",
       "4  7391f604701347e0cb154f82130840939be72eea   \n",
       "5  2abf066b7edaf95aa3af1d6574c4e9898dc3cbf6   \n",
       "6  b698ee999d99852a16cc4075daadac2abb5b4608   \n",
       "7  b444107b8fa363d49f7141613fc24f417a22886f   \n",
       "\n",
       "                                              author  \\\n",
       "0  {'email': 'asgomez95@gmail.com', 'name': 'ande...   \n",
       "1  {'email': 'asgomez95@gmail.com', 'name': 'ande...   \n",
       "2  {'email': 'asgomez95@gmail.com', 'name': 'ande...   \n",
       "3  {'email': 'asgomez95@gmail.com', 'name': 'ande...   \n",
       "4  {'email': 'asgomez95@gmail.com', 'name': 'ande...   \n",
       "5  {'email': 'asgomez95@gmail.com', 'name': 'ande...   \n",
       "6  {'email': 'asgomez95@gmail.com', 'name': 'ande...   \n",
       "7  {'email': 'asgomez95@gmail.com', 'name': 'ande...   \n",
       "\n",
       "                                      message  distinct  \\\n",
       "0                     Done: Questions 1 and 2      True   \n",
       "1                     Done: Questions 3 and 4      True   \n",
       "2                     Done: Questions 5 and 6      True   \n",
       "3                     Done: Questions 7 and 8      True   \n",
       "4                     In progress: Question 9      True   \n",
       "5  Done: Question 9. In progress: Question 10      True   \n",
       "6                           Done: Question 10      True   \n",
       "7                List comprehensions Lab Done      True   \n",
       "\n",
       "                                                 url  \n",
       "0  https://api.github.com/repos/andersgom/lab-lis...  \n",
       "1  https://api.github.com/repos/andersgom/lab-lis...  \n",
       "2  https://api.github.com/repos/andersgom/lab-lis...  \n",
       "3  https://api.github.com/repos/andersgom/lab-lis...  \n",
       "4  https://api.github.com/repos/andersgom/lab-lis...  \n",
       "5  https://api.github.com/repos/andersgom/lab-lis...  \n",
       "6  https://api.github.com/repos/andersgom/lab-lis...  \n",
       "7  https://api.github.com/repos/andersgom/lab-lis...  "
      ]
     },
     "metadata": {},
     "output_type": "display_data"
    },
    {
     "name": "stdout",
     "output_type": "stream",
     "text": [
      "\n",
      "In this repo I made 8 commits.\n"
     ]
    }
   ],
   "source": [
    "# Counting how many commit objects are contained in the array\n",
    "\n",
    "commit_table = pd.DataFrame(commits_df['payload'][0]['commits'])\n",
    "display(commit_table)\n",
    "\n",
    "print(f'\\nIn this repo I made {commit_table[\"sha\"].count()} commits.')"
   ]
  },
  {
   "cell_type": "code",
   "execution_count": null,
   "metadata": {},
   "outputs": [],
   "source": []
  }
 ],
 "metadata": {
  "kernelspec": {
   "display_name": "Python 3.9.12 ('ironhack')",
   "language": "python",
   "name": "python3"
  },
  "language_info": {
   "codemirror_mode": {
    "name": "ipython",
    "version": 3
   },
   "file_extension": ".py",
   "mimetype": "text/x-python",
   "name": "python",
   "nbconvert_exporter": "python",
   "pygments_lexer": "ipython3",
   "version": "3.9.12"
  },
  "orig_nbformat": 4,
  "vscode": {
   "interpreter": {
    "hash": "0094f863879e23567bc7f1203464ab0e17c9a144de34e46277031dbb63b00f13"
   }
  }
 },
 "nbformat": 4,
 "nbformat_minor": 2
}

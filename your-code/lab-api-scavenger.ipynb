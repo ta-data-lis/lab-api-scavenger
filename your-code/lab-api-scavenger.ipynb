{
 "cells": [
  {
   "cell_type": "code",
   "execution_count": 94,
   "id": "2063817d",
   "metadata": {},
   "outputs": [],
   "source": [
    "# import modules to make request and authorization\n",
    "import requests\n",
    "from requests.auth import HTTPBasicAuth\n",
    "import pandas as pd\n",
    "from datetime import datetime, timedelta"
   ]
  },
  {
   "cell_type": "markdown",
   "id": "78929617",
   "metadata": {},
   "source": [
    "### Challenge 1: Fork Languages"
   ]
  },
  {
   "cell_type": "code",
   "execution_count": 95,
   "id": "fee39e9f",
   "metadata": {},
   "outputs": [
    {
     "data": {
      "text/plain": [
       "[None, 'Jupyter Notebook', 'HTML']"
      ]
     },
     "execution_count": 95,
     "metadata": {},
     "output_type": "execute_result"
    }
   ],
   "source": [
    "# define url\n",
    "url = \"https://api.github.com/repos/ironhack-datalabs/mad-oct-2018/forks\"\n",
    "# create requests\n",
    "response = requests.get(url)\n",
    "# obtain response in json format\n",
    "forks = response.json()\n",
    "\n",
    "# Iterate forked json response using language key to get list and append new language in list_language if its not already in it\n",
    "list_language = []\n",
    "for fork in forks:\n",
    "    language = fork[\"language\"]\n",
    "    if language not in list_language:\n",
    "        list_language.append(language)\n",
    "        \n",
    "list_language"
   ]
  },
  {
   "cell_type": "markdown",
   "id": "2cbf7005",
   "metadata": {},
   "source": [
    "### Challenge 2: Count Commits"
   ]
  },
  {
   "cell_type": "code",
   "execution_count": 96,
   "id": "7d512460",
   "metadata": {},
   "outputs": [
    {
     "name": "stdout",
     "output_type": "stream",
     "text": [
      "The total number of commits since 2023-04-16 15:37:24.474818 is : 1\n"
     ]
    }
   ],
   "source": [
    "# define url\n",
    "two_weeks_ago = datetime.utcnow() - timedelta(days=14)\n",
    "\n",
    "url = \"https://api.github.com/repos/ekraj-pok/lab-list-comprehensions/commits?since=\"+str(two_weeks_ago)\n",
    "# create requests\n",
    "response = requests.get(url)\n",
    "# obtain response in json format\n",
    "commits = response.json()\n",
    "number_of_commits = len(commits)\n",
    "print(f\"The total number of commits since {two_weeks_ago} is : {number_of_commits}\")"
   ]
  },
  {
   "cell_type": "code",
   "execution_count": null,
   "id": "ac0942c3",
   "metadata": {},
   "outputs": [],
   "source": []
  }
 ],
 "metadata": {
  "kernelspec": {
   "display_name": "Python 3 (ipykernel)",
   "language": "python",
   "name": "python3"
  },
  "language_info": {
   "codemirror_mode": {
    "name": "ipython",
    "version": 3
   },
   "file_extension": ".py",
   "mimetype": "text/x-python",
   "name": "python",
   "nbconvert_exporter": "python",
   "pygments_lexer": "ipython3",
   "version": "3.9.13"
  }
 },
 "nbformat": 4,
 "nbformat_minor": 5
}

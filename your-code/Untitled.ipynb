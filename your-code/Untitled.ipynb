{
 "cells": [
  {
   "cell_type": "code",
   "execution_count": 3,
   "id": "b1bc63bd",
   "metadata": {},
   "outputs": [],
   "source": [
    "import pandas as pd\n",
    "import numpy as np\n",
    "import requests\n",
    "import os"
   ]
  },
  {
   "cell_type": "code",
   "execution_count": 4,
   "id": "52e095a5",
   "metadata": {},
   "outputs": [],
   "source": [
    "# GitHub API\n",
    "url = 'https://docs.github.com/en/rest'"
   ]
  },
  {
   "cell_type": "markdown",
   "id": "0ebacdfc",
   "metadata": {},
   "source": [
    "# Challenge 1: Fork Languages"
   ]
  },
  {
   "cell_type": "code",
   "execution_count": null,
   "id": "538875ac",
   "metadata": {},
   "outputs": [],
   "source": [
    "You will find out how many programming languages are used among all the forks created \n",
    "from the main lab repo of your bootcamp. Assuming the main lab repo is  \n",
    "`ironhack-datalabs/bcn-feb-2019`, you will:\n",
    "\n",
    "1. Obtain the full list of forks created from the main lab repo via Github API.\n",
    "\n",
    "1. Loop the JSON response to find out the `language` attribute of each fork. \n",
    "Use an array to store the `language` attributes of each fork.\n",
    "    * *Hint: Each language should appear only once in your array.*\n",
    "\n",
    "1. Print the language array. It should be something like:\n",
    "\n",
    "\t```[\"Python\", \"Jupyter Notebook\", \"HTML\"]```\n",
    "\n",
    "Again, the documentation of Github API is [here](https://developer.github.com/v3/)."
   ]
  },
  {
   "cell_type": "code",
   "execution_count": 6,
   "id": "7f3bad92",
   "metadata": {},
   "outputs": [
    {
     "name": "stdout",
     "output_type": "stream",
     "text": [
      "200\n"
     ]
    },
    {
     "data": {
      "text/plain": [
       "bytes"
      ]
     },
     "execution_count": 6,
     "metadata": {},
     "output_type": "execute_result"
    }
   ],
   "source": [
    "url = 'https://api.github.com/repos/ironhack-datalabs/bcn-feb-2019'\n",
    "response = requests.get(url)\n",
    "print(response.status_code)\n",
    "# forks = pd.DataFrame(forks.json())\n",
    "# forks.head()\n",
    "type(response.content)\n"
   ]
  },
  {
   "cell_type": "code",
   "execution_count": 18,
   "id": "09b04e61",
   "metadata": {},
   "outputs": [
    {
     "data": {
      "text/html": [
       "<div>\n",
       "<style scoped>\n",
       "    .dataframe tbody tr th:only-of-type {\n",
       "        vertical-align: middle;\n",
       "    }\n",
       "\n",
       "    .dataframe tbody tr th {\n",
       "        vertical-align: top;\n",
       "    }\n",
       "\n",
       "    .dataframe thead th {\n",
       "        text-align: right;\n",
       "    }\n",
       "</style>\n",
       "<table border=\"1\" class=\"dataframe\">\n",
       "  <thead>\n",
       "    <tr style=\"text-align: right;\">\n",
       "      <th></th>\n",
       "      <th>0</th>\n",
       "    </tr>\n",
       "  </thead>\n",
       "  <tbody>\n",
       "    <tr>\n",
       "      <th>id</th>\n",
       "      <td>169605092</td>\n",
       "    </tr>\n",
       "    <tr>\n",
       "      <th>node_id</th>\n",
       "      <td>MDEwOlJlcG9zaXRvcnkxNjk2MDUwOTI=</td>\n",
       "    </tr>\n",
       "    <tr>\n",
       "      <th>name</th>\n",
       "      <td>bcn-feb-2019</td>\n",
       "    </tr>\n",
       "    <tr>\n",
       "      <th>full_name</th>\n",
       "      <td>ironhack-datalabs/bcn-feb-2019</td>\n",
       "    </tr>\n",
       "    <tr>\n",
       "      <th>private</th>\n",
       "      <td>False</td>\n",
       "    </tr>\n",
       "    <tr>\n",
       "      <th>...</th>\n",
       "      <td>...</td>\n",
       "    </tr>\n",
       "    <tr>\n",
       "      <th>default_branch</th>\n",
       "      <td>master</td>\n",
       "    </tr>\n",
       "    <tr>\n",
       "      <th>temp_clone_token</th>\n",
       "      <td>None</td>\n",
       "    </tr>\n",
       "    <tr>\n",
       "      <th>organization</th>\n",
       "      <td>{'login': 'ironhack-datalabs', 'id': 44225188,...</td>\n",
       "    </tr>\n",
       "    <tr>\n",
       "      <th>network_count</th>\n",
       "      <td>6</td>\n",
       "    </tr>\n",
       "    <tr>\n",
       "      <th>subscribers_count</th>\n",
       "      <td>3</td>\n",
       "    </tr>\n",
       "  </tbody>\n",
       "</table>\n",
       "<p>81 rows × 1 columns</p>\n",
       "</div>"
      ],
      "text/plain": [
       "                                                                   0\n",
       "id                                                         169605092\n",
       "node_id                             MDEwOlJlcG9zaXRvcnkxNjk2MDUwOTI=\n",
       "name                                                    bcn-feb-2019\n",
       "full_name                             ironhack-datalabs/bcn-feb-2019\n",
       "private                                                        False\n",
       "...                                                              ...\n",
       "default_branch                                                master\n",
       "temp_clone_token                                                None\n",
       "organization       {'login': 'ironhack-datalabs', 'id': 44225188,...\n",
       "network_count                                                      6\n",
       "subscribers_count                                                  3\n",
       "\n",
       "[81 rows x 1 columns]"
      ]
     },
     "execution_count": 18,
     "metadata": {},
     "output_type": "execute_result"
    }
   ],
   "source": [
    "type(response.json())\n",
    "df = pd.DataFrame([response.json()]).T\n",
    "df"
   ]
  },
  {
   "cell_type": "markdown",
   "id": "949075f5",
   "metadata": {},
   "source": [
    "# Challenge 2: Count Commits"
   ]
  },
  {
   "cell_type": "code",
   "execution_count": null,
   "id": "e1d0de48",
   "metadata": {},
   "outputs": [],
   "source": [
    "Assuming the main lab repo is `ta-data-lis/lab-mysql-first-queries`, you will count how many commits were made in the past 2 weeks:\n",
    "\n",
    "1. Obtain all the commits made in the past 2 weeks via API, which is a JSON array that contains multiple commit objects.\n",
    "\n",
    "1. Count how many commit objects are contained in the array.\n",
    "\n",
    "Notes:\n",
    "\n",
    "* Github API documentation can be found [here](https://developer.github.com/v3/).\n",
    "\n",
    "* You will need to study the Github API documentation to decide which API endpoint to call and what parameters to use in order to obtain the information you need. Unless you are already super familiar with Github API or super lucky, you probably will do some trials and errors. Therefore, be prepared to go back and forth in studying the API documentation, testing, and revising until you obtain what you need.\n",
    "\n",
    "* After receiving the JSON data object, you need to inspect its structure and decide how to parse the data.\n",
    "\n",
    "* When you test your requests with Github API, sometimes you may be blocked by Github with an error message that reads:\n",
    "\n",
    "\t> You have triggered an abuse detection mechanism and have been temporarily blocked from content creation. Please retry your request again later.\n",
    "\n",
    "\tDon't worry. Check the parameters in your request and wait for a minute or two before you make additional requests.\n"
   ]
  },
  {
   "cell_type": "code",
   "execution_count": null,
   "id": "f0d1f748",
   "metadata": {},
   "outputs": [],
   "source": []
  }
 ],
 "metadata": {
  "kernelspec": {
   "display_name": "Python 3 (ipykernel)",
   "language": "python",
   "name": "python3"
  },
  "language_info": {
   "codemirror_mode": {
    "name": "ipython",
    "version": 3
   },
   "file_extension": ".py",
   "mimetype": "text/x-python",
   "name": "python",
   "nbconvert_exporter": "python",
   "pygments_lexer": "ipython3",
   "version": "3.9.7"
  }
 },
 "nbformat": 4,
 "nbformat_minor": 5
}

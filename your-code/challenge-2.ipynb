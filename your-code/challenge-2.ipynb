{
 "cells": [
  {
   "cell_type": "markdown",
   "metadata": {},
   "source": [
    "# Challenge 2: Count Commits\n",
    "\n",
    "Assuming the main lab repo is ta-data-lis/lab-mysql-first-queries, you will count how many commits were made in the past 2 weeks:\n",
    "\n",
    "Obtain all the commits made in the past 2 weeks via API, which is a JSON array that contains multiple commit objects.\n",
    "\n",
    "Count how many commit objects are contained in the array."
   ]
  },
  {
   "cell_type": "code",
   "execution_count": 7,
   "metadata": {},
   "outputs": [],
   "source": [
    "# import necessary libraries\n",
    "import pandas as pd\n",
    "from pandas.io.json import json_normalize"
   ]
  },
  {
   "cell_type": "code",
   "execution_count": 10,
   "metadata": {},
   "outputs": [],
   "source": [
    "# open json file as dataframe and normalize the commit column\n",
    "df = pd.read_json('commits.json')\n",
    "norm_json = json_normalize(df['commit'])"
   ]
  },
  {
   "cell_type": "code",
   "execution_count": 25,
   "metadata": {},
   "outputs": [
    {
     "data": {
      "text/html": [
       "<div>\n",
       "<style scoped>\n",
       "    .dataframe tbody tr th:only-of-type {\n",
       "        vertical-align: middle;\n",
       "    }\n",
       "\n",
       "    .dataframe tbody tr th {\n",
       "        vertical-align: top;\n",
       "    }\n",
       "\n",
       "    .dataframe thead th {\n",
       "        text-align: right;\n",
       "    }\n",
       "</style>\n",
       "<table border=\"1\" class=\"dataframe\">\n",
       "  <thead>\n",
       "    <tr style=\"text-align: right;\">\n",
       "      <th></th>\n",
       "      <th>message</th>\n",
       "      <th>url</th>\n",
       "      <th>comment_count</th>\n",
       "      <th>author.name</th>\n",
       "      <th>author.email</th>\n",
       "      <th>author.date</th>\n",
       "      <th>committer.name</th>\n",
       "      <th>committer.email</th>\n",
       "      <th>committer.date</th>\n",
       "      <th>tree.sha</th>\n",
       "      <th>tree.url</th>\n",
       "      <th>verification.verified</th>\n",
       "      <th>verification.reason</th>\n",
       "      <th>verification.signature</th>\n",
       "      <th>verification.payload</th>\n",
       "    </tr>\n",
       "  </thead>\n",
       "  <tbody>\n",
       "  </tbody>\n",
       "</table>\n",
       "</div>"
      ],
      "text/plain": [
       "Empty DataFrame\n",
       "Columns: [message, url, comment_count, author.name, author.email, author.date, committer.name, committer.email, committer.date, tree.sha, tree.url, verification.verified, verification.reason, verification.signature, verification.payload]\n",
       "Index: []"
      ]
     },
     "execution_count": 25,
     "metadata": {},
     "output_type": "execute_result"
    }
   ],
   "source": [
    "# change date column to datetime format and filter df by values above the date 2 weeks ago\n",
    "norm_json['committer.date'] = pd.to_datetime(norm_json['committer.date'])\n",
    "norm_json[norm_json['committer.date'] > '2020-01-15']"
   ]
  },
  {
   "cell_type": "code",
   "execution_count": null,
   "metadata": {},
   "outputs": [],
   "source": []
  }
 ],
 "metadata": {
  "kernelspec": {
   "display_name": "Python 3",
   "language": "python",
   "name": "python3"
  },
  "language_info": {
   "codemirror_mode": {
    "name": "ipython",
    "version": 3
   },
   "file_extension": ".py",
   "mimetype": "text/x-python",
   "name": "python",
   "nbconvert_exporter": "python",
   "pygments_lexer": "ipython3",
   "version": "3.7.4"
  }
 },
 "nbformat": 4,
 "nbformat_minor": 2
}

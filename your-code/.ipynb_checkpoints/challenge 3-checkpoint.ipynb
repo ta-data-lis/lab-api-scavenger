{
 "cells": [
  {
   "cell_type": "code",
   "execution_count": 38,
   "metadata": {},
   "outputs": [],
   "source": [
    "import requests\n",
    "import json\n",
    "import pandas as pd"
   ]
  },
  {
   "cell_type": "code",
   "execution_count": 17,
   "metadata": {},
   "outputs": [
    {
     "data": {
      "text/plain": [
       "{'total_count': 1,\n",
       " 'incomplete_results': False,\n",
       " 'items': [{'name': '.0001.scavengerhunt',\n",
       "   'path': '98750/.0001.scavengerhunt',\n",
       "   'sha': '2add7632f1323136324efbf38ec66db1838b6173',\n",
       "   'url': 'https://api.github.com/repositories/162375181/contents/98750/.0001.scavengerhunt?ref=9308ccc8a4c34c5e3a991ee815222a9691c32476',\n",
       "   'git_url': 'https://api.github.com/repositories/162375181/git/blobs/2add7632f1323136324efbf38ec66db1838b6173',\n",
       "   'html_url': 'https://github.com/ironhack-datalabs/scavenger/blob/9308ccc8a4c34c5e3a991ee815222a9691c32476/98750/.0001.scavengerhunt',\n",
       "   'repository': {'id': 162375181,\n",
       "    'node_id': 'MDEwOlJlcG9zaXRvcnkxNjIzNzUxODE=',\n",
       "    'name': 'scavenger',\n",
       "    'full_name': 'ironhack-datalabs/scavenger',\n",
       "    'private': False,\n",
       "    'owner': {'login': 'ironhack-datalabs',\n",
       "     'id': 44225188,\n",
       "     'node_id': 'MDEyOk9yZ2FuaXphdGlvbjQ0MjI1MTg4',\n",
       "     'avatar_url': 'https://avatars2.githubusercontent.com/u/44225188?v=4',\n",
       "     'gravatar_id': '',\n",
       "     'url': 'https://api.github.com/users/ironhack-datalabs',\n",
       "     'html_url': 'https://github.com/ironhack-datalabs',\n",
       "     'followers_url': 'https://api.github.com/users/ironhack-datalabs/followers',\n",
       "     'following_url': 'https://api.github.com/users/ironhack-datalabs/following{/other_user}',\n",
       "     'gists_url': 'https://api.github.com/users/ironhack-datalabs/gists{/gist_id}',\n",
       "     'starred_url': 'https://api.github.com/users/ironhack-datalabs/starred{/owner}{/repo}',\n",
       "     'subscriptions_url': 'https://api.github.com/users/ironhack-datalabs/subscriptions',\n",
       "     'organizations_url': 'https://api.github.com/users/ironhack-datalabs/orgs',\n",
       "     'repos_url': 'https://api.github.com/users/ironhack-datalabs/repos',\n",
       "     'events_url': 'https://api.github.com/users/ironhack-datalabs/events{/privacy}',\n",
       "     'received_events_url': 'https://api.github.com/users/ironhack-datalabs/received_events',\n",
       "     'type': 'Organization',\n",
       "     'site_admin': False},\n",
       "    'html_url': 'https://github.com/ironhack-datalabs/scavenger',\n",
       "    'description': None,\n",
       "    'fork': False,\n",
       "    'url': 'https://api.github.com/repos/ironhack-datalabs/scavenger',\n",
       "    'forks_url': 'https://api.github.com/repos/ironhack-datalabs/scavenger/forks',\n",
       "    'keys_url': 'https://api.github.com/repos/ironhack-datalabs/scavenger/keys{/key_id}',\n",
       "    'collaborators_url': 'https://api.github.com/repos/ironhack-datalabs/scavenger/collaborators{/collaborator}',\n",
       "    'teams_url': 'https://api.github.com/repos/ironhack-datalabs/scavenger/teams',\n",
       "    'hooks_url': 'https://api.github.com/repos/ironhack-datalabs/scavenger/hooks',\n",
       "    'issue_events_url': 'https://api.github.com/repos/ironhack-datalabs/scavenger/issues/events{/number}',\n",
       "    'events_url': 'https://api.github.com/repos/ironhack-datalabs/scavenger/events',\n",
       "    'assignees_url': 'https://api.github.com/repos/ironhack-datalabs/scavenger/assignees{/user}',\n",
       "    'branches_url': 'https://api.github.com/repos/ironhack-datalabs/scavenger/branches{/branch}',\n",
       "    'tags_url': 'https://api.github.com/repos/ironhack-datalabs/scavenger/tags',\n",
       "    'blobs_url': 'https://api.github.com/repos/ironhack-datalabs/scavenger/git/blobs{/sha}',\n",
       "    'git_tags_url': 'https://api.github.com/repos/ironhack-datalabs/scavenger/git/tags{/sha}',\n",
       "    'git_refs_url': 'https://api.github.com/repos/ironhack-datalabs/scavenger/git/refs{/sha}',\n",
       "    'trees_url': 'https://api.github.com/repos/ironhack-datalabs/scavenger/git/trees{/sha}',\n",
       "    'statuses_url': 'https://api.github.com/repos/ironhack-datalabs/scavenger/statuses/{sha}',\n",
       "    'languages_url': 'https://api.github.com/repos/ironhack-datalabs/scavenger/languages',\n",
       "    'stargazers_url': 'https://api.github.com/repos/ironhack-datalabs/scavenger/stargazers',\n",
       "    'contributors_url': 'https://api.github.com/repos/ironhack-datalabs/scavenger/contributors',\n",
       "    'subscribers_url': 'https://api.github.com/repos/ironhack-datalabs/scavenger/subscribers',\n",
       "    'subscription_url': 'https://api.github.com/repos/ironhack-datalabs/scavenger/subscription',\n",
       "    'commits_url': 'https://api.github.com/repos/ironhack-datalabs/scavenger/commits{/sha}',\n",
       "    'git_commits_url': 'https://api.github.com/repos/ironhack-datalabs/scavenger/git/commits{/sha}',\n",
       "    'comments_url': 'https://api.github.com/repos/ironhack-datalabs/scavenger/comments{/number}',\n",
       "    'issue_comment_url': 'https://api.github.com/repos/ironhack-datalabs/scavenger/issues/comments{/number}',\n",
       "    'contents_url': 'https://api.github.com/repos/ironhack-datalabs/scavenger/contents/{+path}',\n",
       "    'compare_url': 'https://api.github.com/repos/ironhack-datalabs/scavenger/compare/{base}...{head}',\n",
       "    'merges_url': 'https://api.github.com/repos/ironhack-datalabs/scavenger/merges',\n",
       "    'archive_url': 'https://api.github.com/repos/ironhack-datalabs/scavenger/{archive_format}{/ref}',\n",
       "    'downloads_url': 'https://api.github.com/repos/ironhack-datalabs/scavenger/downloads',\n",
       "    'issues_url': 'https://api.github.com/repos/ironhack-datalabs/scavenger/issues{/number}',\n",
       "    'pulls_url': 'https://api.github.com/repos/ironhack-datalabs/scavenger/pulls{/number}',\n",
       "    'milestones_url': 'https://api.github.com/repos/ironhack-datalabs/scavenger/milestones{/number}',\n",
       "    'notifications_url': 'https://api.github.com/repos/ironhack-datalabs/scavenger/notifications{?since,all,participating}',\n",
       "    'labels_url': 'https://api.github.com/repos/ironhack-datalabs/scavenger/labels{/name}',\n",
       "    'releases_url': 'https://api.github.com/repos/ironhack-datalabs/scavenger/releases{/id}',\n",
       "    'deployments_url': 'https://api.github.com/repos/ironhack-datalabs/scavenger/deployments'},\n",
       "   'score': 1.398172}]}"
      ]
     },
     "execution_count": 17,
     "metadata": {},
     "output_type": "execute_result"
    }
   ],
   "source": [
    "#url = \"https://api.github.com/repos/ironhack-datalabs/scavenger/tree/master/15024\"\n",
    "#curl https://api.github.com/search/code?q=addClass+in:file+language:js+repo:jquery/jquery\n",
    "\n",
    "url = \"https://api.github.com/search/code?q=In+in:file+language:txt+repo:ironhack-datalabs/scavenger\"\n",
    "\n",
    "response = requests.get(url).json()\n",
    "\n",
    "response"
   ]
  },
  {
   "cell_type": "code",
   "execution_count": 31,
   "metadata": {},
   "outputs": [
    {
     "data": {
      "text/html": [
       "<div>\n",
       "<style scoped>\n",
       "    .dataframe tbody tr th:only-of-type {\n",
       "        vertical-align: middle;\n",
       "    }\n",
       "\n",
       "    .dataframe tbody tr th {\n",
       "        vertical-align: top;\n",
       "    }\n",
       "\n",
       "    .dataframe thead th {\n",
       "        text-align: right;\n",
       "    }\n",
       "</style>\n",
       "<table border=\"1\" class=\"dataframe\">\n",
       "  <thead>\n",
       "    <tr style=\"text-align: right;\">\n",
       "      <th></th>\n",
       "      <th>total_count</th>\n",
       "      <th>incomplete_results</th>\n",
       "      <th>items</th>\n",
       "    </tr>\n",
       "  </thead>\n",
       "  <tbody>\n",
       "    <tr>\n",
       "      <th>0</th>\n",
       "      <td>1</td>\n",
       "      <td>False</td>\n",
       "      <td>{'name': '.0020.scavengerhunt', 'path': '55685...</td>\n",
       "    </tr>\n",
       "  </tbody>\n",
       "</table>\n",
       "</div>"
      ],
      "text/plain": [
       "   total_count  incomplete_results  \\\n",
       "0            1               False   \n",
       "\n",
       "                                               items  \n",
       "0  {'name': '.0020.scavengerhunt', 'path': '55685...  "
      ]
     },
     "execution_count": 31,
     "metadata": {},
     "output_type": "execute_result"
    }
   ],
   "source": [
    "ds = pd.DataFrame(response)\n",
    "ds"
   ]
  },
  {
   "cell_type": "code",
   "execution_count": 41,
   "metadata": {},
   "outputs": [
    {
     "data": {
      "text/plain": [
       "{'message': 'Not Found',\n",
       " 'documentation_url': 'https://developer.github.com/v3'}"
      ]
     },
     "execution_count": 41,
     "metadata": {},
     "output_type": "execute_result"
    }
   ],
   "source": [
    "#'https://api.github.com/search/labels?repository_id=162375181&q=.scavengerhunt'\n",
    "#url = \"https://api.github.com/search/code?q=In+in:file+language:txt+repo:ironhack-datalabs/scavenger\"\n",
    "url = \"https://api.github.com/search/file:txt+repo:ironhack-datalabs/scavenger\"\n",
    "\n",
    "response = requests.get(url).json()\n",
    "\n",
    "response"
   ]
  },
  {
   "cell_type": "code",
   "execution_count": 37,
   "metadata": {},
   "outputs": [
    {
     "data": {
      "text/html": [
       "<div>\n",
       "<style scoped>\n",
       "    .dataframe tbody tr th:only-of-type {\n",
       "        vertical-align: middle;\n",
       "    }\n",
       "\n",
       "    .dataframe tbody tr th {\n",
       "        vertical-align: top;\n",
       "    }\n",
       "\n",
       "    .dataframe thead th {\n",
       "        text-align: right;\n",
       "    }\n",
       "</style>\n",
       "<table border=\"1\" class=\"dataframe\">\n",
       "  <thead>\n",
       "    <tr style=\"text-align: right;\">\n",
       "      <th></th>\n",
       "      <th>message</th>\n",
       "      <th>errors</th>\n",
       "      <th>documentation_url</th>\n",
       "    </tr>\n",
       "  </thead>\n",
       "  <tbody>\n",
       "    <tr>\n",
       "      <th>0</th>\n",
       "      <td>Validation Failed</td>\n",
       "      <td>{'message': 'Must include at least one user, o...</td>\n",
       "      <td>https://developer.github.com/v3/search/</td>\n",
       "    </tr>\n",
       "  </tbody>\n",
       "</table>\n",
       "</div>"
      ],
      "text/plain": [
       "             message                                             errors  \\\n",
       "0  Validation Failed  {'message': 'Must include at least one user, o...   \n",
       "\n",
       "                         documentation_url  \n",
       "0  https://developer.github.com/v3/search/  "
      ]
     },
     "execution_count": 37,
     "metadata": {},
     "output_type": "execute_result"
    }
   ],
   "source": [
    "ds = pd.DataFrame(response)\n",
    "ds"
   ]
  },
  {
   "cell_type": "code",
   "execution_count": null,
   "metadata": {},
   "outputs": [],
   "source": []
  }
 ],
 "metadata": {
  "kernelspec": {
   "display_name": "Python 3",
   "language": "python",
   "name": "python3"
  },
  "language_info": {
   "codemirror_mode": {
    "name": "ipython",
    "version": 3
   },
   "file_extension": ".py",
   "mimetype": "text/x-python",
   "name": "python",
   "nbconvert_exporter": "python",
   "pygments_lexer": "ipython3",
   "version": "3.6.1"
  }
 },
 "nbformat": 4,
 "nbformat_minor": 2
}

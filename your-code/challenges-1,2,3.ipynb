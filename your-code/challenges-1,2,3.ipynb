{
 "cells": [
  {
   "cell_type": "markdown",
   "metadata": {},
   "source": [
    "### Challenge 1: Fork Languages\n",
    "\n",
    "You will find out how many programming languages are used among all the forks created from the main lab repo of your bootcamp. Assuming the main lab repo is `ironhack-datalabs/datalis0819`, you will:\n",
    "\n",
    "1. Obtain the full list of forks created from the main lab repo via Github API.\n",
    "\n",
    "1. Loop the JSON response to find out the `language` attribute of each fork. Use an array to store the `language` attributes of each fork.\n",
    "    * *Hint: Each language should appear only once in your array.*\n",
    "\n",
    "1. Print the language array. It should be something like:\n",
    "\n",
    "\t```[\"Python\", \"Jupyter Notebook\", \"HTML\"]```\n",
    "\n",
    "Again, the documentation of Github API is [here](https://developer.github.com/v3/)."
   ]
  },
  {
   "cell_type": "code",
   "execution_count": 2,
   "metadata": {},
   "outputs": [],
   "source": [
    "# Importing libraries\n",
    "\n",
    "import pandas as pd\n",
    "import requests\n",
    "import json\n",
    "import numpy as np"
   ]
  },
  {
   "cell_type": "code",
   "execution_count": 6,
   "metadata": {},
   "outputs": [
    {
     "data": {
      "text/plain": [
       "'{\"message\":\"Bad credentials\",\"documentation_url\":\"https://developer.github.com/v3\"}'"
      ]
     },
     "execution_count": 6,
     "metadata": {},
     "output_type": "execute_result"
    }
   ],
   "source": [
    "# Assign page URL to a variable\n",
    "url = 'https://api.github.com/repos/ironhack-datalabs/datalis0819/forks'\n",
    "\n",
    "# get method from requests\n",
    "\n",
    "response = requests.get(url,auth=('laurawuerz','7053b1a8a3cc00d6b5dd812d8845729b64fe98ef')).json()\n",
    "\n",
    "response.text"
   ]
  },
  {
   "cell_type": "code",
   "execution_count": 9,
   "metadata": {},
   "outputs": [
    {
     "ename": "ValueError",
     "evalue": "If using all scalar values, you must pass an index",
     "output_type": "error",
     "traceback": [
      "\u001b[0;31m---------------------------------------------------------------------------\u001b[0m",
      "\u001b[0;31mValueError\u001b[0m                                Traceback (most recent call last)",
      "\u001b[0;32m<ipython-input-9-9aae0e0d0db3>\u001b[0m in \u001b[0;36m<module>\u001b[0;34m\u001b[0m\n\u001b[1;32m      1\u001b[0m \u001b[0;31m# Create dataframe\u001b[0m\u001b[0;34m\u001b[0m\u001b[0;34m\u001b[0m\u001b[0;34m\u001b[0m\u001b[0m\n\u001b[1;32m      2\u001b[0m \u001b[0;34m\u001b[0m\u001b[0m\n\u001b[0;32m----> 3\u001b[0;31m \u001b[0mdf\u001b[0m \u001b[0;34m=\u001b[0m \u001b[0mpd\u001b[0m\u001b[0;34m.\u001b[0m\u001b[0mDataFrame\u001b[0m\u001b[0;34m(\u001b[0m\u001b[0mresponse\u001b[0m\u001b[0;34m.\u001b[0m\u001b[0mjson\u001b[0m\u001b[0;34m(\u001b[0m\u001b[0;34m)\u001b[0m\u001b[0;34m)\u001b[0m\u001b[0;34m\u001b[0m\u001b[0;34m\u001b[0m\u001b[0m\n\u001b[0m\u001b[1;32m      4\u001b[0m \u001b[0;34m\u001b[0m\u001b[0m\n\u001b[1;32m      5\u001b[0m \u001b[0mdf\u001b[0m\u001b[0;34m.\u001b[0m\u001b[0mhead\u001b[0m\u001b[0;34m(\u001b[0m\u001b[0;34m)\u001b[0m\u001b[0;34m\u001b[0m\u001b[0;34m\u001b[0m\u001b[0m\n",
      "\u001b[0;32m/usr/local/lib/python3.7/site-packages/pandas/core/frame.py\u001b[0m in \u001b[0;36m__init__\u001b[0;34m(self, data, index, columns, dtype, copy)\u001b[0m\n\u001b[1;32m    408\u001b[0m             )\n\u001b[1;32m    409\u001b[0m         \u001b[0;32melif\u001b[0m \u001b[0misinstance\u001b[0m\u001b[0;34m(\u001b[0m\u001b[0mdata\u001b[0m\u001b[0;34m,\u001b[0m \u001b[0mdict\u001b[0m\u001b[0;34m)\u001b[0m\u001b[0;34m:\u001b[0m\u001b[0;34m\u001b[0m\u001b[0;34m\u001b[0m\u001b[0m\n\u001b[0;32m--> 410\u001b[0;31m             \u001b[0mmgr\u001b[0m \u001b[0;34m=\u001b[0m \u001b[0minit_dict\u001b[0m\u001b[0;34m(\u001b[0m\u001b[0mdata\u001b[0m\u001b[0;34m,\u001b[0m \u001b[0mindex\u001b[0m\u001b[0;34m,\u001b[0m \u001b[0mcolumns\u001b[0m\u001b[0;34m,\u001b[0m \u001b[0mdtype\u001b[0m\u001b[0;34m=\u001b[0m\u001b[0mdtype\u001b[0m\u001b[0;34m)\u001b[0m\u001b[0;34m\u001b[0m\u001b[0;34m\u001b[0m\u001b[0m\n\u001b[0m\u001b[1;32m    411\u001b[0m         \u001b[0;32melif\u001b[0m \u001b[0misinstance\u001b[0m\u001b[0;34m(\u001b[0m\u001b[0mdata\u001b[0m\u001b[0;34m,\u001b[0m \u001b[0mma\u001b[0m\u001b[0;34m.\u001b[0m\u001b[0mMaskedArray\u001b[0m\u001b[0;34m)\u001b[0m\u001b[0;34m:\u001b[0m\u001b[0;34m\u001b[0m\u001b[0;34m\u001b[0m\u001b[0m\n\u001b[1;32m    412\u001b[0m             \u001b[0;32mimport\u001b[0m \u001b[0mnumpy\u001b[0m\u001b[0;34m.\u001b[0m\u001b[0mma\u001b[0m\u001b[0;34m.\u001b[0m\u001b[0mmrecords\u001b[0m \u001b[0;32mas\u001b[0m \u001b[0mmrecords\u001b[0m\u001b[0;34m\u001b[0m\u001b[0;34m\u001b[0m\u001b[0m\n",
      "\u001b[0;32m/usr/local/lib/python3.7/site-packages/pandas/core/internals/construction.py\u001b[0m in \u001b[0;36minit_dict\u001b[0;34m(data, index, columns, dtype)\u001b[0m\n\u001b[1;32m    255\u001b[0m             \u001b[0marr\u001b[0m \u001b[0;32mif\u001b[0m \u001b[0;32mnot\u001b[0m \u001b[0mis_datetime64tz_dtype\u001b[0m\u001b[0;34m(\u001b[0m\u001b[0marr\u001b[0m\u001b[0;34m)\u001b[0m \u001b[0;32melse\u001b[0m \u001b[0marr\u001b[0m\u001b[0;34m.\u001b[0m\u001b[0mcopy\u001b[0m\u001b[0;34m(\u001b[0m\u001b[0;34m)\u001b[0m \u001b[0;32mfor\u001b[0m \u001b[0marr\u001b[0m \u001b[0;32min\u001b[0m \u001b[0marrays\u001b[0m\u001b[0;34m\u001b[0m\u001b[0;34m\u001b[0m\u001b[0m\n\u001b[1;32m    256\u001b[0m         ]\n\u001b[0;32m--> 257\u001b[0;31m     \u001b[0;32mreturn\u001b[0m \u001b[0marrays_to_mgr\u001b[0m\u001b[0;34m(\u001b[0m\u001b[0marrays\u001b[0m\u001b[0;34m,\u001b[0m \u001b[0mdata_names\u001b[0m\u001b[0;34m,\u001b[0m \u001b[0mindex\u001b[0m\u001b[0;34m,\u001b[0m \u001b[0mcolumns\u001b[0m\u001b[0;34m,\u001b[0m \u001b[0mdtype\u001b[0m\u001b[0;34m=\u001b[0m\u001b[0mdtype\u001b[0m\u001b[0;34m)\u001b[0m\u001b[0;34m\u001b[0m\u001b[0;34m\u001b[0m\u001b[0m\n\u001b[0m\u001b[1;32m    258\u001b[0m \u001b[0;34m\u001b[0m\u001b[0m\n\u001b[1;32m    259\u001b[0m \u001b[0;34m\u001b[0m\u001b[0m\n",
      "\u001b[0;32m/usr/local/lib/python3.7/site-packages/pandas/core/internals/construction.py\u001b[0m in \u001b[0;36marrays_to_mgr\u001b[0;34m(arrays, arr_names, index, columns, dtype)\u001b[0m\n\u001b[1;32m     75\u001b[0m     \u001b[0;31m# figure out the index, if necessary\u001b[0m\u001b[0;34m\u001b[0m\u001b[0;34m\u001b[0m\u001b[0;34m\u001b[0m\u001b[0m\n\u001b[1;32m     76\u001b[0m     \u001b[0;32mif\u001b[0m \u001b[0mindex\u001b[0m \u001b[0;32mis\u001b[0m \u001b[0;32mNone\u001b[0m\u001b[0;34m:\u001b[0m\u001b[0;34m\u001b[0m\u001b[0;34m\u001b[0m\u001b[0m\n\u001b[0;32m---> 77\u001b[0;31m         \u001b[0mindex\u001b[0m \u001b[0;34m=\u001b[0m \u001b[0mextract_index\u001b[0m\u001b[0;34m(\u001b[0m\u001b[0marrays\u001b[0m\u001b[0;34m)\u001b[0m\u001b[0;34m\u001b[0m\u001b[0;34m\u001b[0m\u001b[0m\n\u001b[0m\u001b[1;32m     78\u001b[0m     \u001b[0;32melse\u001b[0m\u001b[0;34m:\u001b[0m\u001b[0;34m\u001b[0m\u001b[0;34m\u001b[0m\u001b[0m\n\u001b[1;32m     79\u001b[0m         \u001b[0mindex\u001b[0m \u001b[0;34m=\u001b[0m \u001b[0mensure_index\u001b[0m\u001b[0;34m(\u001b[0m\u001b[0mindex\u001b[0m\u001b[0;34m)\u001b[0m\u001b[0;34m\u001b[0m\u001b[0;34m\u001b[0m\u001b[0m\n",
      "\u001b[0;32m/usr/local/lib/python3.7/site-packages/pandas/core/internals/construction.py\u001b[0m in \u001b[0;36mextract_index\u001b[0;34m(data)\u001b[0m\n\u001b[1;32m    356\u001b[0m \u001b[0;34m\u001b[0m\u001b[0m\n\u001b[1;32m    357\u001b[0m         \u001b[0;32mif\u001b[0m \u001b[0;32mnot\u001b[0m \u001b[0mindexes\u001b[0m \u001b[0;32mand\u001b[0m \u001b[0;32mnot\u001b[0m \u001b[0mraw_lengths\u001b[0m\u001b[0;34m:\u001b[0m\u001b[0;34m\u001b[0m\u001b[0;34m\u001b[0m\u001b[0m\n\u001b[0;32m--> 358\u001b[0;31m             \u001b[0;32mraise\u001b[0m \u001b[0mValueError\u001b[0m\u001b[0;34m(\u001b[0m\u001b[0;34m\"If using all scalar values, you must pass an index\"\u001b[0m\u001b[0;34m)\u001b[0m\u001b[0;34m\u001b[0m\u001b[0;34m\u001b[0m\u001b[0m\n\u001b[0m\u001b[1;32m    359\u001b[0m \u001b[0;34m\u001b[0m\u001b[0m\n\u001b[1;32m    360\u001b[0m         \u001b[0;32mif\u001b[0m \u001b[0mhave_series\u001b[0m\u001b[0;34m:\u001b[0m\u001b[0;34m\u001b[0m\u001b[0;34m\u001b[0m\u001b[0m\n",
      "\u001b[0;31mValueError\u001b[0m: If using all scalar values, you must pass an index"
     ]
    }
   ],
   "source": [
    "# Create dataframe\n",
    "\n",
    "df = pd.DataFrame(response.json())\n",
    "\n",
    "df.head()"
   ]
  },
  {
   "cell_type": "code",
   "execution_count": null,
   "metadata": {},
   "outputs": [],
   "source": [
    "df.columns"
   ]
  },
  {
   "cell_type": "code",
   "execution_count": null,
   "metadata": {},
   "outputs": [],
   "source": [
    "df_forks = df[['name','fork','forks_count','forks','language']]\n",
    "df_forks"
   ]
  },
  {
   "cell_type": "code",
   "execution_count": null,
   "metadata": {},
   "outputs": [],
   "source": [
    "df_forks.shape"
   ]
  },
  {
   "cell_type": "code",
   "execution_count": null,
   "metadata": {},
   "outputs": [],
   "source": [
    "df_forks['language'].unique().tolist()"
   ]
  },
  {
   "cell_type": "markdown",
   "metadata": {},
   "source": [
    "### Challenge 2: Count Commits\n",
    "\n",
    "Count how many commits were made in the past week.\n",
    "\n",
    "1. Obtain all the commits made in the past week via API, which is a JSON array that contains multiple commit objects.\n",
    "\n",
    "1. Count how many commit objects are contained in the array."
   ]
  },
  {
   "cell_type": "code",
   "execution_count": null,
   "metadata": {},
   "outputs": [],
   "source": [
    "# Assign page URL to a variable\n",
    "url2 = 'https://api.github.com/repos/ironhack-datalabs/datalis0819/commits'\n",
    "\n",
    "# get method from requests\n",
    "\n",
    "response2 = requests.get(url2,auth=('laurawuerz','7053b1a8a3cc00d6b5dd812d8845729b64fe98ef')).json()\n",
    "\n",
    "df_commit = pd.DataFrame(response2)\n",
    "\n",
    "\n",
    "\n",
    "print(df_commit.columns)\n",
    "print(df_commit.shape)\n",
    "df_commit.head()"
   ]
  },
  {
   "cell_type": "code",
   "execution_count": null,
   "metadata": {},
   "outputs": [],
   "source": [
    "from pandas.io.json import json_normalize \n",
    "\n",
    " \n",
    "norm_json = json_normalize(response2) \n",
    "\n",
    "ds_normalized = pd.DataFrame(norm_json) \n",
    "\n",
    "ds_normalized.head() "
   ]
  },
  {
   "cell_type": "code",
   "execution_count": null,
   "metadata": {},
   "outputs": [],
   "source": [
    "df_commit = ds_normalized[['url','commit.author.name','commit.author.date']]"
   ]
  },
  {
   "cell_type": "code",
   "execution_count": null,
   "metadata": {},
   "outputs": [],
   "source": [
    "df_commit['commit.author.date'] = pd.to_datetime(df_commit['commit.author.date']).dt.date"
   ]
  },
  {
   "cell_type": "code",
   "execution_count": null,
   "metadata": {},
   "outputs": [],
   "source": [
    "df_commit.head()"
   ]
  },
  {
   "cell_type": "code",
   "execution_count": null,
   "metadata": {},
   "outputs": [],
   "source": [
    "df_commit['commit.author.date'] = pd.to_datetime(df_commit['commit.author.date'])\n",
    "date_start = '2019-08-19'\n",
    "mask = (df_commit['commit.author.date'] > date_start) \n",
    "df_commit_week = df_commit.loc[mask]\n",
    "df_commit_week"
   ]
  },
  {
   "cell_type": "code",
   "execution_count": null,
   "metadata": {},
   "outputs": [],
   "source": [
    "df_commit_week['commit.author.date'].unique().tolist()"
   ]
  },
  {
   "cell_type": "code",
   "execution_count": null,
   "metadata": {},
   "outputs": [],
   "source": []
  },
  {
   "cell_type": "code",
   "execution_count": null,
   "metadata": {},
   "outputs": [],
   "source": [
    "\n"
   ]
  },
  {
   "cell_type": "code",
   "execution_count": null,
   "metadata": {},
   "outputs": [],
   "source": []
  },
  {
   "cell_type": "markdown",
   "metadata": {},
   "source": [
    "### Challenge 3: Hidden Cold Joke\n",
    "\n",
    "Using Python, call Github API to find out the cold joke contained in the 24 secret files in the following repo:\n",
    "\n",
    "https://github.com/ironhack-datalabs/scavenger\n",
    "\n",
    "The filenames of the secret files contain `.scavengerhunt` and they are scattered in different directories of this repo. The secret files are named from `.0001.scavengerhunt` to `.0024.scavengerhunt`. They are scattered randomly throughout this repo. You need to **search for these files by calling the Github API**, not searching the local files on your computer.\n",
    "\n",
    "Notes:\n",
    "\n",
    "* Github API documentation can be found [here](https://developer.github.com/v3/).\n",
    "\n",
    "* You will need to study the Github API documentation to decide which API endpoint to call and what parameters to use in order to obtain the information you need. Unless you are already super familiar with Github API or super lucky, you probably will do some trials and errors. Therefore, be prepared to go back and forth in studying the API documentation, testing, and revising until you obtain what you need.\n",
    "\n",
    "* After receiving the JSON data object, you need to inspect its structure and decide how to parse the data.\n",
    "\n",
    "* When you test your requests with Github API, sometimes you may be blocked by Github with an error message that reads:\n",
    "\n",
    "\t> You have triggered an abuse detection mechanism and have been temporarily blocked from content creation. Please retry your request again later.\n",
    "\n",
    "\tDon't worry. Check the parameters in your request and wait for a minute or two before you make additional requests.\n",
    "\n",
    "**After you find out the secrete files:**\n",
    "\n",
    "1. Sort the filenames ascendingly.\n",
    "\n",
    "1. Read the content of each secret files into an array of strings.\n",
    "\n",
    "1. Concatenate the strings in the array separating each two with a whitespace.\n",
    "\n",
    "1. Print out the joke."
   ]
  },
  {
   "cell_type": "code",
   "execution_count": 17,
   "metadata": {},
   "outputs": [],
   "source": [
    "# Assign page URL to a variable\n",
    "url = \"https://api.github.com/search/code?q=filename:scavengerhunt+repo:ironhack-datalabs/scavenger\"\n",
    "\n",
    "# get method from requests\n",
    "response_commit = requests.get(url).json()\n",
    "\n",
    "# filter items\n",
    "data = response_commit[\"items\"]\n",
    "\n",
    "# sort data \n",
    "sorted_names = sorted(data, key = lambda x : x[\"name\"])\n"
   ]
  },
  {
   "cell_type": "code",
   "execution_count": 13,
   "metadata": {},
   "outputs": [
    {
     "data": {
      "text/html": [
       "<div>\n",
       "<style scoped>\n",
       "    .dataframe tbody tr th:only-of-type {\n",
       "        vertical-align: middle;\n",
       "    }\n",
       "\n",
       "    .dataframe tbody tr th {\n",
       "        vertical-align: top;\n",
       "    }\n",
       "\n",
       "    .dataframe thead th {\n",
       "        text-align: right;\n",
       "    }\n",
       "</style>\n",
       "<table border=\"1\" class=\"dataframe\">\n",
       "  <thead>\n",
       "    <tr style=\"text-align: right;\">\n",
       "      <th></th>\n",
       "      <th>name</th>\n",
       "      <th>path</th>\n",
       "      <th>sha</th>\n",
       "      <th>url</th>\n",
       "      <th>git_url</th>\n",
       "      <th>html_url</th>\n",
       "      <th>repository</th>\n",
       "      <th>score</th>\n",
       "    </tr>\n",
       "  </thead>\n",
       "  <tbody>\n",
       "    <tr>\n",
       "      <th>0</th>\n",
       "      <td>.0001.scavengerhunt</td>\n",
       "      <td>98750/.0001.scavengerhunt</td>\n",
       "      <td>2add7632f1323136324efbf38ec66db1838b6173</td>\n",
       "      <td>https://api.github.com/repositories/162375181/...</td>\n",
       "      <td>https://api.github.com/repositories/162375181/...</td>\n",
       "      <td>https://github.com/ironhack-datalabs/scavenger...</td>\n",
       "      <td>{'id': 162375181, 'node_id': 'MDEwOlJlcG9zaXRv...</td>\n",
       "      <td>18.551836</td>\n",
       "    </tr>\n",
       "    <tr>\n",
       "      <th>1</th>\n",
       "      <td>.0002.scavengerhunt</td>\n",
       "      <td>88596/.0002.scavengerhunt</td>\n",
       "      <td>1269488f7fb1f4b56a8c0e5eb48cecbfadfa9219</td>\n",
       "      <td>https://api.github.com/repositories/162375181/...</td>\n",
       "      <td>https://api.github.com/repositories/162375181/...</td>\n",
       "      <td>https://github.com/ironhack-datalabs/scavenger...</td>\n",
       "      <td>{'id': 162375181, 'node_id': 'MDEwOlJlcG9zaXRv...</td>\n",
       "      <td>18.551836</td>\n",
       "    </tr>\n",
       "    <tr>\n",
       "      <th>2</th>\n",
       "      <td>.0003.scavengerhunt</td>\n",
       "      <td>60224/.0003.scavengerhunt</td>\n",
       "      <td>ba524d7abc4b3a0c0995eb85c9eef470e9e7172f</td>\n",
       "      <td>https://api.github.com/repositories/162375181/...</td>\n",
       "      <td>https://api.github.com/repositories/162375181/...</td>\n",
       "      <td>https://github.com/ironhack-datalabs/scavenger...</td>\n",
       "      <td>{'id': 162375181, 'node_id': 'MDEwOlJlcG9zaXRv...</td>\n",
       "      <td>18.551836</td>\n",
       "    </tr>\n",
       "    <tr>\n",
       "      <th>3</th>\n",
       "      <td>.0004.scavengerhunt</td>\n",
       "      <td>68848/.0004.scavengerhunt</td>\n",
       "      <td>d15a2cc44e31b14c65264271b81072e5ba0e1634</td>\n",
       "      <td>https://api.github.com/repositories/162375181/...</td>\n",
       "      <td>https://api.github.com/repositories/162375181/...</td>\n",
       "      <td>https://github.com/ironhack-datalabs/scavenger...</td>\n",
       "      <td>{'id': 162375181, 'node_id': 'MDEwOlJlcG9zaXRv...</td>\n",
       "      <td>18.551836</td>\n",
       "    </tr>\n",
       "    <tr>\n",
       "      <th>4</th>\n",
       "      <td>.0005.scavengerhunt</td>\n",
       "      <td>44639/.0005.scavengerhunt</td>\n",
       "      <td>3aaf448b40f878cf3067e2323616143bdde600de</td>\n",
       "      <td>https://api.github.com/repositories/162375181/...</td>\n",
       "      <td>https://api.github.com/repositories/162375181/...</td>\n",
       "      <td>https://github.com/ironhack-datalabs/scavenger...</td>\n",
       "      <td>{'id': 162375181, 'node_id': 'MDEwOlJlcG9zaXRv...</td>\n",
       "      <td>18.551836</td>\n",
       "    </tr>\n",
       "    <tr>\n",
       "      <th>5</th>\n",
       "      <td>.0006.scavengerhunt</td>\n",
       "      <td>15024/.0006.scavengerhunt</td>\n",
       "      <td>1c9064284a24b3486015eafdb391b141c27ada2b</td>\n",
       "      <td>https://api.github.com/repositories/162375181/...</td>\n",
       "      <td>https://api.github.com/repositories/162375181/...</td>\n",
       "      <td>https://github.com/ironhack-datalabs/scavenger...</td>\n",
       "      <td>{'id': 162375181, 'node_id': 'MDEwOlJlcG9zaXRv...</td>\n",
       "      <td>18.551836</td>\n",
       "    </tr>\n",
       "    <tr>\n",
       "      <th>6</th>\n",
       "      <td>.0007.scavengerhunt</td>\n",
       "      <td>17020/.0007.scavengerhunt</td>\n",
       "      <td>6abb415e0ae3450be0f323113bcca2af195ebbff</td>\n",
       "      <td>https://api.github.com/repositories/162375181/...</td>\n",
       "      <td>https://api.github.com/repositories/162375181/...</td>\n",
       "      <td>https://github.com/ironhack-datalabs/scavenger...</td>\n",
       "      <td>{'id': 162375181, 'node_id': 'MDEwOlJlcG9zaXRv...</td>\n",
       "      <td>18.551836</td>\n",
       "    </tr>\n",
       "    <tr>\n",
       "      <th>7</th>\n",
       "      <td>.0008.scavengerhunt</td>\n",
       "      <td>15534/.0008.scavengerhunt</td>\n",
       "      <td>e351fb73264581ce26504b97ef07daea35116f32</td>\n",
       "      <td>https://api.github.com/repositories/162375181/...</td>\n",
       "      <td>https://api.github.com/repositories/162375181/...</td>\n",
       "      <td>https://github.com/ironhack-datalabs/scavenger...</td>\n",
       "      <td>{'id': 162375181, 'node_id': 'MDEwOlJlcG9zaXRv...</td>\n",
       "      <td>18.551836</td>\n",
       "    </tr>\n",
       "    <tr>\n",
       "      <th>8</th>\n",
       "      <td>.0009.scavengerhunt</td>\n",
       "      <td>97881/.0009.scavengerhunt</td>\n",
       "      <td>f5cb13223fdc1b11f4cfbbe1694f533b3c579fa0</td>\n",
       "      <td>https://api.github.com/repositories/162375181/...</td>\n",
       "      <td>https://api.github.com/repositories/162375181/...</td>\n",
       "      <td>https://github.com/ironhack-datalabs/scavenger...</td>\n",
       "      <td>{'id': 162375181, 'node_id': 'MDEwOlJlcG9zaXRv...</td>\n",
       "      <td>18.551836</td>\n",
       "    </tr>\n",
       "    <tr>\n",
       "      <th>9</th>\n",
       "      <td>.0010.scavengerhunt</td>\n",
       "      <td>47830/.0010.scavengerhunt</td>\n",
       "      <td>c1187c4badc9be6990570cef850fc87dcf3523b0</td>\n",
       "      <td>https://api.github.com/repositories/162375181/...</td>\n",
       "      <td>https://api.github.com/repositories/162375181/...</td>\n",
       "      <td>https://github.com/ironhack-datalabs/scavenger...</td>\n",
       "      <td>{'id': 162375181, 'node_id': 'MDEwOlJlcG9zaXRv...</td>\n",
       "      <td>18.551836</td>\n",
       "    </tr>\n",
       "  </tbody>\n",
       "</table>\n",
       "</div>"
      ],
      "text/plain": [
       "                  name                       path  \\\n",
       "0  .0001.scavengerhunt  98750/.0001.scavengerhunt   \n",
       "1  .0002.scavengerhunt  88596/.0002.scavengerhunt   \n",
       "2  .0003.scavengerhunt  60224/.0003.scavengerhunt   \n",
       "3  .0004.scavengerhunt  68848/.0004.scavengerhunt   \n",
       "4  .0005.scavengerhunt  44639/.0005.scavengerhunt   \n",
       "5  .0006.scavengerhunt  15024/.0006.scavengerhunt   \n",
       "6  .0007.scavengerhunt  17020/.0007.scavengerhunt   \n",
       "7  .0008.scavengerhunt  15534/.0008.scavengerhunt   \n",
       "8  .0009.scavengerhunt  97881/.0009.scavengerhunt   \n",
       "9  .0010.scavengerhunt  47830/.0010.scavengerhunt   \n",
       "\n",
       "                                        sha  \\\n",
       "0  2add7632f1323136324efbf38ec66db1838b6173   \n",
       "1  1269488f7fb1f4b56a8c0e5eb48cecbfadfa9219   \n",
       "2  ba524d7abc4b3a0c0995eb85c9eef470e9e7172f   \n",
       "3  d15a2cc44e31b14c65264271b81072e5ba0e1634   \n",
       "4  3aaf448b40f878cf3067e2323616143bdde600de   \n",
       "5  1c9064284a24b3486015eafdb391b141c27ada2b   \n",
       "6  6abb415e0ae3450be0f323113bcca2af195ebbff   \n",
       "7  e351fb73264581ce26504b97ef07daea35116f32   \n",
       "8  f5cb13223fdc1b11f4cfbbe1694f533b3c579fa0   \n",
       "9  c1187c4badc9be6990570cef850fc87dcf3523b0   \n",
       "\n",
       "                                                 url  \\\n",
       "0  https://api.github.com/repositories/162375181/...   \n",
       "1  https://api.github.com/repositories/162375181/...   \n",
       "2  https://api.github.com/repositories/162375181/...   \n",
       "3  https://api.github.com/repositories/162375181/...   \n",
       "4  https://api.github.com/repositories/162375181/...   \n",
       "5  https://api.github.com/repositories/162375181/...   \n",
       "6  https://api.github.com/repositories/162375181/...   \n",
       "7  https://api.github.com/repositories/162375181/...   \n",
       "8  https://api.github.com/repositories/162375181/...   \n",
       "9  https://api.github.com/repositories/162375181/...   \n",
       "\n",
       "                                             git_url  \\\n",
       "0  https://api.github.com/repositories/162375181/...   \n",
       "1  https://api.github.com/repositories/162375181/...   \n",
       "2  https://api.github.com/repositories/162375181/...   \n",
       "3  https://api.github.com/repositories/162375181/...   \n",
       "4  https://api.github.com/repositories/162375181/...   \n",
       "5  https://api.github.com/repositories/162375181/...   \n",
       "6  https://api.github.com/repositories/162375181/...   \n",
       "7  https://api.github.com/repositories/162375181/...   \n",
       "8  https://api.github.com/repositories/162375181/...   \n",
       "9  https://api.github.com/repositories/162375181/...   \n",
       "\n",
       "                                            html_url  \\\n",
       "0  https://github.com/ironhack-datalabs/scavenger...   \n",
       "1  https://github.com/ironhack-datalabs/scavenger...   \n",
       "2  https://github.com/ironhack-datalabs/scavenger...   \n",
       "3  https://github.com/ironhack-datalabs/scavenger...   \n",
       "4  https://github.com/ironhack-datalabs/scavenger...   \n",
       "5  https://github.com/ironhack-datalabs/scavenger...   \n",
       "6  https://github.com/ironhack-datalabs/scavenger...   \n",
       "7  https://github.com/ironhack-datalabs/scavenger...   \n",
       "8  https://github.com/ironhack-datalabs/scavenger...   \n",
       "9  https://github.com/ironhack-datalabs/scavenger...   \n",
       "\n",
       "                                          repository      score  \n",
       "0  {'id': 162375181, 'node_id': 'MDEwOlJlcG9zaXRv...  18.551836  \n",
       "1  {'id': 162375181, 'node_id': 'MDEwOlJlcG9zaXRv...  18.551836  \n",
       "2  {'id': 162375181, 'node_id': 'MDEwOlJlcG9zaXRv...  18.551836  \n",
       "3  {'id': 162375181, 'node_id': 'MDEwOlJlcG9zaXRv...  18.551836  \n",
       "4  {'id': 162375181, 'node_id': 'MDEwOlJlcG9zaXRv...  18.551836  \n",
       "5  {'id': 162375181, 'node_id': 'MDEwOlJlcG9zaXRv...  18.551836  \n",
       "6  {'id': 162375181, 'node_id': 'MDEwOlJlcG9zaXRv...  18.551836  \n",
       "7  {'id': 162375181, 'node_id': 'MDEwOlJlcG9zaXRv...  18.551836  \n",
       "8  {'id': 162375181, 'node_id': 'MDEwOlJlcG9zaXRv...  18.551836  \n",
       "9  {'id': 162375181, 'node_id': 'MDEwOlJlcG9zaXRv...  18.551836  "
      ]
     },
     "execution_count": 13,
     "metadata": {},
     "output_type": "execute_result"
    }
   ],
   "source": [
    "# Create dataframe\n",
    "\n",
    "data_sorted = pd.DataFrame(sorted_names)\n",
    "data_sorted.head(10)"
   ]
  },
  {
   "cell_type": "code",
   "execution_count": 23,
   "metadata": {},
   "outputs": [],
   "source": [
    "import re"
   ]
  },
  {
   "cell_type": "code",
   "execution_count": 14,
   "metadata": {},
   "outputs": [],
   "source": [
    "# get message\n",
    "\n",
    "base_url = \"https://api.github.com/repos/ironhack-datalabs/scavenger/git/blobs/\"\n",
    "\n",
    "contents = [requests.get(base_url + sha, headers={\"Accept\": \"application/vnd.github.v3.raw\"}).content for sha in data_sorted.sha.values]"
   ]
  },
  {
   "cell_type": "code",
   "execution_count": 31,
   "metadata": {},
   "outputs": [
    {
     "name": "stdout",
     "output_type": "stream",
     "text": [
      "[b'In\\n', b'data\\n', b'science,\\n', b'80\\n', b'percent\\n', b'of\\n', b'time\\n', b'spent\\n', b'is\\n', b'preparing\\n', b'{\"message\":\"API rate limit exceeded for 109.49.177.109. (But here\\'s the good news: Authenticated requests get a higher rate limit. Check out the documentation for more details.)\",\"documentation_url\":\"https://developer.github.com/v3/#rate-limiting\"}', b'{\"message\":\"API rate limit exceeded for 109.49.177.109. (But here\\'s the good news: Authenticated requests get a higher rate limit. Check out the documentation for more details.)\",\"documentation_url\":\"https://developer.github.com/v3/#rate-limiting\"}', b'{\"message\":\"API rate limit exceeded for 109.49.177.109. (But here\\'s the good news: Authenticated requests get a higher rate limit. Check out the documentation for more details.)\",\"documentation_url\":\"https://developer.github.com/v3/#rate-limiting\"}', b'{\"message\":\"API rate limit exceeded for 109.49.177.109. (But here\\'s the good news: Authenticated requests get a higher rate limit. Check out the documentation for more details.)\",\"documentation_url\":\"https://developer.github.com/v3/#rate-limiting\"}', b'{\"message\":\"API rate limit exceeded for 109.49.177.109. (But here\\'s the good news: Authenticated requests get a higher rate limit. Check out the documentation for more details.)\",\"documentation_url\":\"https://developer.github.com/v3/#rate-limiting\"}', b'{\"message\":\"API rate limit exceeded for 109.49.177.109. (But here\\'s the good news: Authenticated requests get a higher rate limit. Check out the documentation for more details.)\",\"documentation_url\":\"https://developer.github.com/v3/#rate-limiting\"}', b'{\"message\":\"API rate limit exceeded for 109.49.177.109. (But here\\'s the good news: Authenticated requests get a higher rate limit. Check out the documentation for more details.)\",\"documentation_url\":\"https://developer.github.com/v3/#rate-limiting\"}', b'{\"message\":\"API rate limit exceeded for 109.49.177.109. (But here\\'s the good news: Authenticated requests get a higher rate limit. Check out the documentation for more details.)\",\"documentation_url\":\"https://developer.github.com/v3/#rate-limiting\"}', b'{\"message\":\"API rate limit exceeded for 109.49.177.109. (But here\\'s the good news: Authenticated requests get a higher rate limit. Check out the documentation for more details.)\",\"documentation_url\":\"https://developer.github.com/v3/#rate-limiting\"}', b'{\"message\":\"API rate limit exceeded for 109.49.177.109. (But here\\'s the good news: Authenticated requests get a higher rate limit. Check out the documentation for more details.)\",\"documentation_url\":\"https://developer.github.com/v3/#rate-limiting\"}', b'{\"message\":\"API rate limit exceeded for 109.49.177.109. (But here\\'s the good news: Authenticated requests get a higher rate limit. Check out the documentation for more details.)\",\"documentation_url\":\"https://developer.github.com/v3/#rate-limiting\"}', b'{\"message\":\"API rate limit exceeded for 109.49.177.109. (But here\\'s the good news: Authenticated requests get a higher rate limit. Check out the documentation for more details.)\",\"documentation_url\":\"https://developer.github.com/v3/#rate-limiting\"}', b'{\"message\":\"API rate limit exceeded for 109.49.177.109. (But here\\'s the good news: Authenticated requests get a higher rate limit. Check out the documentation for more details.)\",\"documentation_url\":\"https://developer.github.com/v3/#rate-limiting\"}', b'{\"message\":\"API rate limit exceeded for 109.49.177.109. (But here\\'s the good news: Authenticated requests get a higher rate limit. Check out the documentation for more details.)\",\"documentation_url\":\"https://developer.github.com/v3/#rate-limiting\"}']\n"
     ]
    }
   ],
   "source": [
    "type(contents)\n",
    "print(contents)"
   ]
  },
  {
   "cell_type": "code",
   "execution_count": 40,
   "metadata": {},
   "outputs": [],
   "source": [
    "contents = contents[:10]"
   ]
  },
  {
   "cell_type": "code",
   "execution_count": 42,
   "metadata": {},
   "outputs": [
    {
     "data": {
      "text/plain": [
       "[b'In\\n',\n",
       " b'data\\n',\n",
       " b'science,\\n',\n",
       " b'80\\n',\n",
       " b'percent\\n',\n",
       " b'of\\n',\n",
       " b'time\\n',\n",
       " b'spent\\n',\n",
       " b'is\\n',\n",
       " b'preparing\\n']"
      ]
     },
     "execution_count": 42,
     "metadata": {},
     "output_type": "execute_result"
    }
   ],
   "source": [
    "contents"
   ]
  },
  {
   "cell_type": "code",
   "execution_count": null,
   "metadata": {},
   "outputs": [],
   "source": []
  },
  {
   "cell_type": "code",
   "execution_count": null,
   "metadata": {},
   "outputs": [],
   "source": []
  }
 ],
 "metadata": {
  "kernelspec": {
   "display_name": "Python 3",
   "language": "python",
   "name": "python3"
  },
  "language_info": {
   "codemirror_mode": {
    "name": "ipython",
    "version": 3
   },
   "file_extension": ".py",
   "mimetype": "text/x-python",
   "name": "python",
   "nbconvert_exporter": "python",
   "pygments_lexer": "ipython3",
   "version": "3.7.4"
  }
 },
 "nbformat": 4,
 "nbformat_minor": 2
}

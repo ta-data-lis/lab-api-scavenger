{
 "cells": [
  {
   "attachments": {},
   "cell_type": "markdown",
   "metadata": {},
   "source": [
    "# **Challenge 1: Fork Languages**"
   ]
  },
  {
   "cell_type": "code",
   "execution_count": 1,
   "metadata": {},
   "outputs": [],
   "source": [
    "import pandas as pd\n",
    "import requests as req"
   ]
  },
  {
   "cell_type": "code",
   "execution_count": 2,
   "metadata": {},
   "outputs": [
    {
     "data": {
      "text/plain": [
       "200"
      ]
     },
     "execution_count": 2,
     "metadata": {},
     "output_type": "execute_result"
    }
   ],
   "source": [
    "url = 'https://api.github.com/repos/ironhack-datalabs/mad-oct-2018/forks'\n",
    "res = req.get(url)\n",
    "res.status_code"
   ]
  },
  {
   "cell_type": "code",
   "execution_count": 6,
   "metadata": {},
   "outputs": [
    {
     "data": {
      "text/html": [
       "<div>\n",
       "<style scoped>\n",
       "    .dataframe tbody tr th:only-of-type {\n",
       "        vertical-align: middle;\n",
       "    }\n",
       "\n",
       "    .dataframe tbody tr th {\n",
       "        vertical-align: top;\n",
       "    }\n",
       "\n",
       "    .dataframe thead th {\n",
       "        text-align: right;\n",
       "    }\n",
       "</style>\n",
       "<table border=\"1\" class=\"dataframe\">\n",
       "  <thead>\n",
       "    <tr style=\"text-align: right;\">\n",
       "      <th></th>\n",
       "      <th>id</th>\n",
       "      <th>node_id</th>\n",
       "      <th>name</th>\n",
       "      <th>full_name</th>\n",
       "      <th>private</th>\n",
       "      <th>owner</th>\n",
       "      <th>html_url</th>\n",
       "      <th>description</th>\n",
       "      <th>fork</th>\n",
       "      <th>url</th>\n",
       "      <th>...</th>\n",
       "      <th>license</th>\n",
       "      <th>allow_forking</th>\n",
       "      <th>is_template</th>\n",
       "      <th>web_commit_signoff_required</th>\n",
       "      <th>topics</th>\n",
       "      <th>visibility</th>\n",
       "      <th>forks</th>\n",
       "      <th>open_issues</th>\n",
       "      <th>watchers</th>\n",
       "      <th>default_branch</th>\n",
       "    </tr>\n",
       "  </thead>\n",
       "  <tbody>\n",
       "    <tr>\n",
       "      <th>0</th>\n",
       "      <td>487632383</td>\n",
       "      <td>R_kgDOHRCt_w</td>\n",
       "      <td>mad-oct-2018</td>\n",
       "      <td>asier3/mad-oct-2018</td>\n",
       "      <td>False</td>\n",
       "      <td>{'login': 'asier3', 'id': 101799204, 'node_id'...</td>\n",
       "      <td>https://github.com/asier3/mad-oct-2018</td>\n",
       "      <td>Student labs for Ironhack data analytics bootcamp</td>\n",
       "      <td>True</td>\n",
       "      <td>https://api.github.com/repos/asier3/mad-oct-2018</td>\n",
       "      <td>...</td>\n",
       "      <td>{'key': 'unlicense', 'name': 'The Unlicense', ...</td>\n",
       "      <td>True</td>\n",
       "      <td>False</td>\n",
       "      <td>False</td>\n",
       "      <td>[]</td>\n",
       "      <td>public</td>\n",
       "      <td>0</td>\n",
       "      <td>0</td>\n",
       "      <td>0</td>\n",
       "      <td>master</td>\n",
       "    </tr>\n",
       "    <tr>\n",
       "      <th>1</th>\n",
       "      <td>485472962</td>\n",
       "      <td>R_kgDOHO-6wg</td>\n",
       "      <td>mad-oct-2018</td>\n",
       "      <td>Medea22/mad-oct-2018</td>\n",
       "      <td>False</td>\n",
       "      <td>{'login': 'Medea22', 'id': 101408499, 'node_id...</td>\n",
       "      <td>https://github.com/Medea22/mad-oct-2018</td>\n",
       "      <td>Student labs for Ironhack data analytics bootcamp</td>\n",
       "      <td>True</td>\n",
       "      <td>https://api.github.com/repos/Medea22/mad-oct-2018</td>\n",
       "      <td>...</td>\n",
       "      <td>{'key': 'unlicense', 'name': 'The Unlicense', ...</td>\n",
       "      <td>True</td>\n",
       "      <td>False</td>\n",
       "      <td>False</td>\n",
       "      <td>[]</td>\n",
       "      <td>public</td>\n",
       "      <td>0</td>\n",
       "      <td>0</td>\n",
       "      <td>0</td>\n",
       "      <td>master</td>\n",
       "    </tr>\n",
       "    <tr>\n",
       "      <th>2</th>\n",
       "      <td>416830289</td>\n",
       "      <td>R_kgDOGNhTUQ</td>\n",
       "      <td>mad-oct-2018</td>\n",
       "      <td>techols/mad-oct-2018</td>\n",
       "      <td>False</td>\n",
       "      <td>{'login': 'techols', 'id': 86572687, 'node_id'...</td>\n",
       "      <td>https://github.com/techols/mad-oct-2018</td>\n",
       "      <td>Student labs for Ironhack data analytics bootcamp</td>\n",
       "      <td>True</td>\n",
       "      <td>https://api.github.com/repos/techols/mad-oct-2018</td>\n",
       "      <td>...</td>\n",
       "      <td>{'key': 'unlicense', 'name': 'The Unlicense', ...</td>\n",
       "      <td>True</td>\n",
       "      <td>False</td>\n",
       "      <td>False</td>\n",
       "      <td>[]</td>\n",
       "      <td>public</td>\n",
       "      <td>0</td>\n",
       "      <td>0</td>\n",
       "      <td>0</td>\n",
       "      <td>master</td>\n",
       "    </tr>\n",
       "    <tr>\n",
       "      <th>3</th>\n",
       "      <td>357335874</td>\n",
       "      <td>MDEwOlJlcG9zaXRvcnkzNTczMzU4NzQ=</td>\n",
       "      <td>mad-oct-2018</td>\n",
       "      <td>luisbang/mad-oct-2018</td>\n",
       "      <td>False</td>\n",
       "      <td>{'login': 'luisbang', 'id': 79090589, 'node_id...</td>\n",
       "      <td>https://github.com/luisbang/mad-oct-2018</td>\n",
       "      <td>Student labs for Ironhack data analytics bootcamp</td>\n",
       "      <td>True</td>\n",
       "      <td>https://api.github.com/repos/luisbang/mad-oct-...</td>\n",
       "      <td>...</td>\n",
       "      <td>{'key': 'unlicense', 'name': 'The Unlicense', ...</td>\n",
       "      <td>True</td>\n",
       "      <td>False</td>\n",
       "      <td>False</td>\n",
       "      <td>[]</td>\n",
       "      <td>public</td>\n",
       "      <td>0</td>\n",
       "      <td>0</td>\n",
       "      <td>0</td>\n",
       "      <td>master</td>\n",
       "    </tr>\n",
       "    <tr>\n",
       "      <th>4</th>\n",
       "      <td>335309218</td>\n",
       "      <td>MDEwOlJlcG9zaXRvcnkzMzUzMDkyMTg=</td>\n",
       "      <td>mad-oct-2018</td>\n",
       "      <td>Forastierii/mad-oct-2018</td>\n",
       "      <td>False</td>\n",
       "      <td>{'login': 'Forastierii', 'id': 67510604, 'node...</td>\n",
       "      <td>https://github.com/Forastierii/mad-oct-2018</td>\n",
       "      <td>Student labs for Ironhack data analytics bootcamp</td>\n",
       "      <td>True</td>\n",
       "      <td>https://api.github.com/repos/Forastierii/mad-o...</td>\n",
       "      <td>...</td>\n",
       "      <td>{'key': 'unlicense', 'name': 'The Unlicense', ...</td>\n",
       "      <td>True</td>\n",
       "      <td>False</td>\n",
       "      <td>False</td>\n",
       "      <td>[]</td>\n",
       "      <td>public</td>\n",
       "      <td>0</td>\n",
       "      <td>0</td>\n",
       "      <td>0</td>\n",
       "      <td>master</td>\n",
       "    </tr>\n",
       "  </tbody>\n",
       "</table>\n",
       "<p>5 rows × 79 columns</p>\n",
       "</div>"
      ],
      "text/plain": [
       "          id                           node_id          name  \\\n",
       "0  487632383                      R_kgDOHRCt_w  mad-oct-2018   \n",
       "1  485472962                      R_kgDOHO-6wg  mad-oct-2018   \n",
       "2  416830289                      R_kgDOGNhTUQ  mad-oct-2018   \n",
       "3  357335874  MDEwOlJlcG9zaXRvcnkzNTczMzU4NzQ=  mad-oct-2018   \n",
       "4  335309218  MDEwOlJlcG9zaXRvcnkzMzUzMDkyMTg=  mad-oct-2018   \n",
       "\n",
       "                  full_name  private  \\\n",
       "0       asier3/mad-oct-2018    False   \n",
       "1      Medea22/mad-oct-2018    False   \n",
       "2      techols/mad-oct-2018    False   \n",
       "3     luisbang/mad-oct-2018    False   \n",
       "4  Forastierii/mad-oct-2018    False   \n",
       "\n",
       "                                               owner  \\\n",
       "0  {'login': 'asier3', 'id': 101799204, 'node_id'...   \n",
       "1  {'login': 'Medea22', 'id': 101408499, 'node_id...   \n",
       "2  {'login': 'techols', 'id': 86572687, 'node_id'...   \n",
       "3  {'login': 'luisbang', 'id': 79090589, 'node_id...   \n",
       "4  {'login': 'Forastierii', 'id': 67510604, 'node...   \n",
       "\n",
       "                                      html_url  \\\n",
       "0       https://github.com/asier3/mad-oct-2018   \n",
       "1      https://github.com/Medea22/mad-oct-2018   \n",
       "2      https://github.com/techols/mad-oct-2018   \n",
       "3     https://github.com/luisbang/mad-oct-2018   \n",
       "4  https://github.com/Forastierii/mad-oct-2018   \n",
       "\n",
       "                                         description  fork  \\\n",
       "0  Student labs for Ironhack data analytics bootcamp  True   \n",
       "1  Student labs for Ironhack data analytics bootcamp  True   \n",
       "2  Student labs for Ironhack data analytics bootcamp  True   \n",
       "3  Student labs for Ironhack data analytics bootcamp  True   \n",
       "4  Student labs for Ironhack data analytics bootcamp  True   \n",
       "\n",
       "                                                 url  ...  \\\n",
       "0   https://api.github.com/repos/asier3/mad-oct-2018  ...   \n",
       "1  https://api.github.com/repos/Medea22/mad-oct-2018  ...   \n",
       "2  https://api.github.com/repos/techols/mad-oct-2018  ...   \n",
       "3  https://api.github.com/repos/luisbang/mad-oct-...  ...   \n",
       "4  https://api.github.com/repos/Forastierii/mad-o...  ...   \n",
       "\n",
       "                                             license allow_forking  \\\n",
       "0  {'key': 'unlicense', 'name': 'The Unlicense', ...          True   \n",
       "1  {'key': 'unlicense', 'name': 'The Unlicense', ...          True   \n",
       "2  {'key': 'unlicense', 'name': 'The Unlicense', ...          True   \n",
       "3  {'key': 'unlicense', 'name': 'The Unlicense', ...          True   \n",
       "4  {'key': 'unlicense', 'name': 'The Unlicense', ...          True   \n",
       "\n",
       "  is_template web_commit_signoff_required topics visibility forks open_issues  \\\n",
       "0       False                       False     []     public     0           0   \n",
       "1       False                       False     []     public     0           0   \n",
       "2       False                       False     []     public     0           0   \n",
       "3       False                       False     []     public     0           0   \n",
       "4       False                       False     []     public     0           0   \n",
       "\n",
       "  watchers default_branch  \n",
       "0        0         master  \n",
       "1        0         master  \n",
       "2        0         master  \n",
       "3        0         master  \n",
       "4        0         master  \n",
       "\n",
       "[5 rows x 79 columns]"
      ]
     },
     "execution_count": 6,
     "metadata": {},
     "output_type": "execute_result"
    }
   ],
   "source": [
    "res.json()\n",
    "fork = pd.DataFrame(res.json())\n",
    "fork.head(5)"
   ]
  },
  {
   "cell_type": "code",
   "execution_count": 7,
   "metadata": {},
   "outputs": [
    {
     "data": {
      "text/plain": [
       "array([None, 'Jupyter Notebook', 'HTML'], dtype=object)"
      ]
     },
     "execution_count": 7,
     "metadata": {},
     "output_type": "execute_result"
    }
   ],
   "source": [
    "language_array = fork['language'].unique()\n",
    "language_array"
   ]
  },
  {
   "attachments": {},
   "cell_type": "markdown",
   "metadata": {},
   "source": [
    "# **Challenge 2: Count Commits**"
   ]
  },
  {
   "cell_type": "code",
   "execution_count": 24,
   "metadata": {},
   "outputs": [
    {
     "data": {
      "text/plain": [
       "200"
      ]
     },
     "execution_count": 24,
     "metadata": {},
     "output_type": "execute_result"
    }
   ],
   "source": [
    "url = 'https://api.github.com/repos/thiagomedan/lab-list-comprehensions/commits'\n",
    "params = {\"since\":\"2023-01-20\"}\n",
    "res = req.get(url, params=params)\n",
    "res.status_code"
   ]
  },
  {
   "cell_type": "code",
   "execution_count": 46,
   "metadata": {},
   "outputs": [
    {
     "data": {
      "text/html": [
       "<div>\n",
       "<style scoped>\n",
       "    .dataframe tbody tr th:only-of-type {\n",
       "        vertical-align: middle;\n",
       "    }\n",
       "\n",
       "    .dataframe tbody tr th {\n",
       "        vertical-align: top;\n",
       "    }\n",
       "\n",
       "    .dataframe thead th {\n",
       "        text-align: right;\n",
       "    }\n",
       "</style>\n",
       "<table border=\"1\" class=\"dataframe\">\n",
       "  <thead>\n",
       "    <tr style=\"text-align: right;\">\n",
       "      <th></th>\n",
       "      <th>sha</th>\n",
       "      <th>node_id</th>\n",
       "      <th>commit</th>\n",
       "      <th>url</th>\n",
       "      <th>html_url</th>\n",
       "      <th>comments_url</th>\n",
       "      <th>author</th>\n",
       "      <th>committer</th>\n",
       "      <th>parents</th>\n",
       "    </tr>\n",
       "  </thead>\n",
       "  <tbody>\n",
       "    <tr>\n",
       "      <th>0</th>\n",
       "      <td>37ddcad394674795e26b3995447f8bfde8e9361e</td>\n",
       "      <td>C_kwDOIyVaVdoAKDM3ZGRjYWQzOTQ2NzQ3OTVlMjZiMzk5...</td>\n",
       "      <td>{'author': {'name': '“thiagomedan”', 'email': ...</td>\n",
       "      <td>https://api.github.com/repos/thiagomedan/lab-l...</td>\n",
       "      <td>https://github.com/thiagomedan/lab-list-compre...</td>\n",
       "      <td>https://api.github.com/repos/thiagomedan/lab-l...</td>\n",
       "      <td>{'login': 'thiagomedan', 'id': 120119974, 'nod...</td>\n",
       "      <td>{'login': 'thiagomedan', 'id': 120119974, 'nod...</td>\n",
       "      <td>[{'sha': '8949a53afaeae22f5ce7eba669b73c4479c9...</td>\n",
       "    </tr>\n",
       "  </tbody>\n",
       "</table>\n",
       "</div>"
      ],
      "text/plain": [
       "                                        sha  \\\n",
       "0  37ddcad394674795e26b3995447f8bfde8e9361e   \n",
       "\n",
       "                                             node_id  \\\n",
       "0  C_kwDOIyVaVdoAKDM3ZGRjYWQzOTQ2NzQ3OTVlMjZiMzk5...   \n",
       "\n",
       "                                              commit  \\\n",
       "0  {'author': {'name': '“thiagomedan”', 'email': ...   \n",
       "\n",
       "                                                 url  \\\n",
       "0  https://api.github.com/repos/thiagomedan/lab-l...   \n",
       "\n",
       "                                            html_url  \\\n",
       "0  https://github.com/thiagomedan/lab-list-compre...   \n",
       "\n",
       "                                        comments_url  \\\n",
       "0  https://api.github.com/repos/thiagomedan/lab-l...   \n",
       "\n",
       "                                              author  \\\n",
       "0  {'login': 'thiagomedan', 'id': 120119974, 'nod...   \n",
       "\n",
       "                                           committer  \\\n",
       "0  {'login': 'thiagomedan', 'id': 120119974, 'nod...   \n",
       "\n",
       "                                             parents  \n",
       "0  [{'sha': '8949a53afaeae22f5ce7eba669b73c4479c9...  "
      ]
     },
     "execution_count": 46,
     "metadata": {},
     "output_type": "execute_result"
    }
   ],
   "source": [
    "myRepo = pd.DataFrame(res.json())\n",
    "myRepo"
   ]
  },
  {
   "cell_type": "code",
   "execution_count": 49,
   "metadata": {},
   "outputs": [
    {
     "data": {
      "text/plain": [
       "1"
      ]
     },
     "execution_count": 49,
     "metadata": {},
     "output_type": "execute_result"
    }
   ],
   "source": [
    "commits_array = myRepo['url']\n",
    "len(commits_array)"
   ]
  }
 ],
 "metadata": {
  "kernelspec": {
   "display_name": "Python 3",
   "language": "python",
   "name": "python3"
  },
  "language_info": {
   "codemirror_mode": {
    "name": "ipython",
    "version": 3
   },
   "file_extension": ".py",
   "mimetype": "text/x-python",
   "name": "python",
   "nbconvert_exporter": "python",
   "pygments_lexer": "ipython3",
   "version": "3.10.6"
  },
  "orig_nbformat": 4,
  "vscode": {
   "interpreter": {
    "hash": "37083a178839ddb6837eca99e3841ef7be6dad5dc50c6d19829e2187d61ddd5d"
   }
  }
 },
 "nbformat": 4,
 "nbformat_minor": 2
}
